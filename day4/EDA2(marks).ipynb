{
 "cells": [
  {
   "cell_type": "code",
   "execution_count": 2,
   "id": "43dd92d4-3db3-41d3-85c8-3d4e4d510e2c",
   "metadata": {},
   "outputs": [],
   "source": [
    "import pandas as pd\n",
    "df = pd.read_csv(\"Marks_data.csv\")"
   ]
  },
  {
   "cell_type": "code",
   "execution_count": 3,
   "id": "642738f9-d907-4f00-88c7-bde03ef854cf",
   "metadata": {},
   "outputs": [
    {
     "data": {
      "text/html": [
       "<div>\n",
       "<style scoped>\n",
       "    .dataframe tbody tr th:only-of-type {\n",
       "        vertical-align: middle;\n",
       "    }\n",
       "\n",
       "    .dataframe tbody tr th {\n",
       "        vertical-align: top;\n",
       "    }\n",
       "\n",
       "    .dataframe thead th {\n",
       "        text-align: right;\n",
       "    }\n",
       "</style>\n",
       "<table border=\"1\" class=\"dataframe\">\n",
       "  <thead>\n",
       "    <tr style=\"text-align: right;\">\n",
       "      <th></th>\n",
       "      <th>student_id</th>\n",
       "      <th>Name</th>\n",
       "      <th>Math</th>\n",
       "      <th>Science</th>\n",
       "      <th>English</th>\n",
       "      <th>Total</th>\n",
       "      <th>Grade</th>\n",
       "    </tr>\n",
       "  </thead>\n",
       "  <tbody>\n",
       "    <tr>\n",
       "      <th>0</th>\n",
       "      <td>1</td>\n",
       "      <td>Ford</td>\n",
       "      <td>13</td>\n",
       "      <td>32</td>\n",
       "      <td>55</td>\n",
       "      <td>239</td>\n",
       "      <td>local area network</td>\n",
       "    </tr>\n",
       "    <tr>\n",
       "      <th>1</th>\n",
       "      <td>2</td>\n",
       "      <td>Dennison</td>\n",
       "      <td>59</td>\n",
       "      <td>22</td>\n",
       "      <td>72</td>\n",
       "      <td>197</td>\n",
       "      <td>Ameliorated</td>\n",
       "    </tr>\n",
       "    <tr>\n",
       "      <th>2</th>\n",
       "      <td>3</td>\n",
       "      <td>Mandel</td>\n",
       "      <td>13</td>\n",
       "      <td>97</td>\n",
       "      <td>70</td>\n",
       "      <td>282</td>\n",
       "      <td>bi-directional</td>\n",
       "    </tr>\n",
       "    <tr>\n",
       "      <th>3</th>\n",
       "      <td>4</td>\n",
       "      <td>Camella</td>\n",
       "      <td>72</td>\n",
       "      <td>41</td>\n",
       "      <td>57</td>\n",
       "      <td>126</td>\n",
       "      <td>tertiary</td>\n",
       "    </tr>\n",
       "    <tr>\n",
       "      <th>4</th>\n",
       "      <td>5</td>\n",
       "      <td>Felicia</td>\n",
       "      <td>81</td>\n",
       "      <td>28</td>\n",
       "      <td>62</td>\n",
       "      <td>237</td>\n",
       "      <td>Proactive</td>\n",
       "    </tr>\n",
       "  </tbody>\n",
       "</table>\n",
       "</div>"
      ],
      "text/plain": [
       "   student_id      Name  Math  Science  English  Total               Grade\n",
       "0           1      Ford    13       32       55    239  local area network\n",
       "1           2  Dennison    59       22       72    197         Ameliorated\n",
       "2           3    Mandel    13       97       70    282      bi-directional\n",
       "3           4   Camella    72       41       57    126            tertiary\n",
       "4           5   Felicia    81       28       62    237           Proactive"
      ]
     },
     "execution_count": 3,
     "metadata": {},
     "output_type": "execute_result"
    }
   ],
   "source": [
    "df.head() #To check the first five rows"
   ]
  },
  {
   "cell_type": "code",
   "execution_count": 4,
   "id": "27c8e498-d17b-4c77-b25c-17ea07d236d6",
   "metadata": {},
   "outputs": [
    {
     "data": {
      "text/html": [
       "<div>\n",
       "<style scoped>\n",
       "    .dataframe tbody tr th:only-of-type {\n",
       "        vertical-align: middle;\n",
       "    }\n",
       "\n",
       "    .dataframe tbody tr th {\n",
       "        vertical-align: top;\n",
       "    }\n",
       "\n",
       "    .dataframe thead th {\n",
       "        text-align: right;\n",
       "    }\n",
       "</style>\n",
       "<table border=\"1\" class=\"dataframe\">\n",
       "  <thead>\n",
       "    <tr style=\"text-align: right;\">\n",
       "      <th></th>\n",
       "      <th>student_id</th>\n",
       "      <th>Name</th>\n",
       "      <th>Math</th>\n",
       "      <th>Science</th>\n",
       "      <th>English</th>\n",
       "      <th>Total</th>\n",
       "      <th>Grade</th>\n",
       "    </tr>\n",
       "  </thead>\n",
       "  <tbody>\n",
       "    <tr>\n",
       "      <th>0</th>\n",
       "      <td>False</td>\n",
       "      <td>False</td>\n",
       "      <td>False</td>\n",
       "      <td>False</td>\n",
       "      <td>False</td>\n",
       "      <td>False</td>\n",
       "      <td>False</td>\n",
       "    </tr>\n",
       "    <tr>\n",
       "      <th>1</th>\n",
       "      <td>False</td>\n",
       "      <td>False</td>\n",
       "      <td>False</td>\n",
       "      <td>False</td>\n",
       "      <td>False</td>\n",
       "      <td>False</td>\n",
       "      <td>False</td>\n",
       "    </tr>\n",
       "    <tr>\n",
       "      <th>2</th>\n",
       "      <td>False</td>\n",
       "      <td>False</td>\n",
       "      <td>False</td>\n",
       "      <td>False</td>\n",
       "      <td>False</td>\n",
       "      <td>False</td>\n",
       "      <td>False</td>\n",
       "    </tr>\n",
       "    <tr>\n",
       "      <th>3</th>\n",
       "      <td>False</td>\n",
       "      <td>False</td>\n",
       "      <td>False</td>\n",
       "      <td>False</td>\n",
       "      <td>False</td>\n",
       "      <td>False</td>\n",
       "      <td>False</td>\n",
       "    </tr>\n",
       "    <tr>\n",
       "      <th>4</th>\n",
       "      <td>False</td>\n",
       "      <td>False</td>\n",
       "      <td>False</td>\n",
       "      <td>False</td>\n",
       "      <td>False</td>\n",
       "      <td>False</td>\n",
       "      <td>False</td>\n",
       "    </tr>\n",
       "    <tr>\n",
       "      <th>...</th>\n",
       "      <td>...</td>\n",
       "      <td>...</td>\n",
       "      <td>...</td>\n",
       "      <td>...</td>\n",
       "      <td>...</td>\n",
       "      <td>...</td>\n",
       "      <td>...</td>\n",
       "    </tr>\n",
       "    <tr>\n",
       "      <th>95</th>\n",
       "      <td>False</td>\n",
       "      <td>False</td>\n",
       "      <td>False</td>\n",
       "      <td>False</td>\n",
       "      <td>False</td>\n",
       "      <td>False</td>\n",
       "      <td>False</td>\n",
       "    </tr>\n",
       "    <tr>\n",
       "      <th>96</th>\n",
       "      <td>False</td>\n",
       "      <td>False</td>\n",
       "      <td>False</td>\n",
       "      <td>False</td>\n",
       "      <td>False</td>\n",
       "      <td>False</td>\n",
       "      <td>False</td>\n",
       "    </tr>\n",
       "    <tr>\n",
       "      <th>97</th>\n",
       "      <td>False</td>\n",
       "      <td>False</td>\n",
       "      <td>False</td>\n",
       "      <td>False</td>\n",
       "      <td>False</td>\n",
       "      <td>False</td>\n",
       "      <td>False</td>\n",
       "    </tr>\n",
       "    <tr>\n",
       "      <th>98</th>\n",
       "      <td>False</td>\n",
       "      <td>False</td>\n",
       "      <td>False</td>\n",
       "      <td>False</td>\n",
       "      <td>False</td>\n",
       "      <td>False</td>\n",
       "      <td>False</td>\n",
       "    </tr>\n",
       "    <tr>\n",
       "      <th>99</th>\n",
       "      <td>False</td>\n",
       "      <td>False</td>\n",
       "      <td>False</td>\n",
       "      <td>False</td>\n",
       "      <td>False</td>\n",
       "      <td>False</td>\n",
       "      <td>False</td>\n",
       "    </tr>\n",
       "  </tbody>\n",
       "</table>\n",
       "<p>100 rows × 7 columns</p>\n",
       "</div>"
      ],
      "text/plain": [
       "    student_id   Name   Math  Science  English  Total  Grade\n",
       "0        False  False  False    False    False  False  False\n",
       "1        False  False  False    False    False  False  False\n",
       "2        False  False  False    False    False  False  False\n",
       "3        False  False  False    False    False  False  False\n",
       "4        False  False  False    False    False  False  False\n",
       "..         ...    ...    ...      ...      ...    ...    ...\n",
       "95       False  False  False    False    False  False  False\n",
       "96       False  False  False    False    False  False  False\n",
       "97       False  False  False    False    False  False  False\n",
       "98       False  False  False    False    False  False  False\n",
       "99       False  False  False    False    False  False  False\n",
       "\n",
       "[100 rows x 7 columns]"
      ]
     },
     "execution_count": 4,
     "metadata": {},
     "output_type": "execute_result"
    }
   ],
   "source": [
    "df.isna() #Check null value"
   ]
  },
  {
   "cell_type": "code",
   "execution_count": 5,
   "id": "cc2207d6-a988-4f12-9941-a27ae41f3190",
   "metadata": {},
   "outputs": [
    {
     "name": "stdout",
     "output_type": "stream",
     "text": [
      "    Math  Science  English\n",
      "0     13       32       55\n",
      "1     59       22       72\n",
      "2     13       97       70\n",
      "3     72       41       57\n",
      "4     81       28       62\n",
      "..   ...      ...      ...\n",
      "95    23       18       41\n",
      "96    21       80       24\n",
      "97    41       53       45\n",
      "98    41       97      100\n",
      "99    58       58       70\n",
      "\n",
      "[100 rows x 3 columns]\n"
     ]
    }
   ],
   "source": [
    "df['Total'] = df[[\"Math\", \"Science\", \"English\"]].sum(axis = 1)\n",
    "print(df[[\"Name\" ,\"Math\", \"Science\", \"English\", \"Total\"]])"
   ]
  },
  {
   "cell_type": "code",
   "execution_count": 6,
   "id": "aee80e9f-f136-4bcd-aa57-dc9096d72a17",
   "metadata": {},
   "outputs": [],
   "source": [
    "def assign_grade(total):\n",
    "    if total >= 250:\n",
    "        return 'A'\n",
    "    elif total >= 200:\n",
    "        return 'B'\n",
    "    elif total >= 150:\n",
    "        return 'C'\n",
    "    else:\n",
    "        return 'D'"
   ]
  },
  {
   "cell_type": "code",
   "execution_count": 7,
   "id": "0ba5a6fd-4435-4132-80b4-be735faada1a",
   "metadata": {},
   "outputs": [],
   "source": [
    "df[\"Grade\"] = df[\"Total\"].apply(assign_grade)"
   ]
  },
  {
   "cell_type": "code",
   "execution_count": 9,
   "id": "bc7624c9-f898-4a07-9202-3517d23e9e2e",
   "metadata": {},
   "outputs": [
    {
     "name": "stdout",
     "output_type": "stream",
     "text": [
      "         Name  Total Grade\n",
      "0        Ford    100     D\n",
      "1    Dennison    153     C\n",
      "2      Mandel    180     C\n",
      "3     Camella    170     C\n",
      "4     Felicia    171     C\n",
      "..        ...    ...   ...\n",
      "95      Onfre     82     D\n",
      "96     Jarrad    125     D\n",
      "97     Michal    139     D\n",
      "98  Engelbert    238     B\n",
      "99     Jo ann    186     C\n",
      "\n",
      "[100 rows x 3 columns]\n"
     ]
    }
   ],
   "source": [
    "print(df[[\"Name\", \"Total\", \"Grade\"]])"
   ]
  },
  {
   "cell_type": "code",
   "execution_count": 11,
   "id": "09dc925d-4554-4408-b75a-c674c965a966",
   "metadata": {},
   "outputs": [
    {
     "name": "stdout",
     "output_type": "stream",
     "text": [
      "       Name  Total Grade\n",
      "0      Ford    100     D\n",
      "1  Dennison    153     C\n",
      "2    Mandel    180     C\n",
      "3   Camella    170     C\n",
      "4   Felicia    171     C\n"
     ]
    }
   ],
   "source": [
    "print(df[[\"Name\", \"Total\", \"Grade\"]].head())"
   ]
  },
  {
   "cell_type": "code",
   "execution_count": 12,
   "id": "d929ca1e-a224-45f4-b459-021fc4e4908c",
   "metadata": {},
   "outputs": [
    {
     "name": "stdout",
     "output_type": "stream",
     "text": [
      "         Name  Total Grade\n",
      "95      Onfre     82     D\n",
      "96     Jarrad    125     D\n",
      "97     Michal    139     D\n",
      "98  Engelbert    238     B\n",
      "99     Jo ann    186     C\n"
     ]
    }
   ],
   "source": [
    "print(df[[\"Name\", \"Total\", \"Grade\"]].tail())"
   ]
  },
  {
   "cell_type": "code",
   "execution_count": 13,
   "id": "cd346925-89ad-4be2-a34a-d99de505987e",
   "metadata": {},
   "outputs": [],
   "source": [
    "grade_a_students = df[df[\"Grade\"] == 'A']"
   ]
  },
  {
   "cell_type": "code",
   "execution_count": 14,
   "id": "94007898-9c34-422c-a44e-5cc7de7c41e7",
   "metadata": {},
   "outputs": [
    {
     "name": "stdout",
     "output_type": "stream",
     "text": [
      "    student_id        Name  Math  Science  English  Total Grade\n",
      "13          14    Raphaela    93       92       81    266     A\n",
      "17          18    Faustine    91      100       82    273     A\n",
      "57          58  Christiana    80       81       99    260     A\n"
     ]
    }
   ],
   "source": [
    "print(grade_a_students)"
   ]
  },
  {
   "cell_type": "code",
   "execution_count": 15,
   "id": "a8792555-6d4d-4c27-9ed7-95e0da916a44",
   "metadata": {},
   "outputs": [
    {
     "name": "stdout",
     "output_type": "stream",
     "text": [
      "    student_id       Name  Math  Science  English  Total Grade\n",
      "11          12       Aile    58       85       96    239     B\n",
      "19          20    Kristen    96       50       83    229     B\n",
      "22          23     Elinor    80       57       66    203     B\n",
      "23          24       Arda    77       31       96    204     B\n",
      "41          42    Rodolfo    93       92       56    241     B\n",
      "43          44    Sawyere    99       82       49    230     B\n",
      "44          45      Leigh    62       65       87    214     B\n",
      "54          55     Donall    96       90       50    236     B\n",
      "59          60     Alicia    68       88       89    245     B\n",
      "60          61      Jorry    58       99       90    247     B\n",
      "61          62    Ernesta   100       42       95    237     B\n",
      "62          63       Shea    80       87       52    219     B\n",
      "79          80      Madge    83       46       72    201     B\n",
      "80          81       Dean    65       88       94    247     B\n",
      "98          99  Engelbert    41       97      100    238     B\n"
     ]
    }
   ],
   "source": [
    "grade_b_students = df[df[\"Grade\"] == 'B']\n",
    "print(grade_b_students)"
   ]
  },
  {
   "cell_type": "code",
   "execution_count": 18,
   "id": "e4812ee1-ff9f-4f86-bede-4f7b911601d3",
   "metadata": {},
   "outputs": [
    {
     "name": "stdout",
     "output_type": "stream",
     "text": [
      "30\n"
     ]
    }
   ],
   "source": [
    "grade_c_students = df[df[\"Grade\"] == 'C']\n",
    "print(len(grade_c_students))"
   ]
  },
  {
   "cell_type": "code",
   "execution_count": 19,
   "id": "0ef72a85-2906-44b1-afae-2a8bcef9651b",
   "metadata": {},
   "outputs": [
    {
     "name": "stdout",
     "output_type": "stream",
     "text": [
      "52\n"
     ]
    }
   ],
   "source": [
    "grade_d_students = df[df[\"Grade\"] == 'D']\n",
    "print(len(grade_d_students))"
   ]
  },
  {
   "cell_type": "code",
   "execution_count": 22,
   "id": "1883ded2-e851-4baa-88cf-05a0c36e3e77",
   "metadata": {},
   "outputs": [
    {
     "name": "stdout",
     "output_type": "stream",
     "text": [
      "Total number of students failed: 52\n"
     ]
    }
   ],
   "source": [
    "print(\"Total number of students failed:\", len(df[df[\"Grade\"] == 'D']))"
   ]
  },
  {
   "cell_type": "code",
   "execution_count": 23,
   "id": "0e97988c-056b-4dbe-90a6-c1dfb9986f9f",
   "metadata": {},
   "outputs": [
    {
     "name": "stdout",
     "output_type": "stream",
     "text": [
      "100\n"
     ]
    }
   ],
   "source": [
    "#max marks in math\n",
    "math_max = max(df['Math'])\n",
    "print(math_max)"
   ]
  },
  {
   "cell_type": "code",
   "execution_count": 25,
   "id": "05c996ff-46c7-4b34-be95-c103d0b21f39",
   "metadata": {},
   "outputs": [
    {
     "name": "stdout",
     "output_type": "stream",
     "text": [
      "    student_id     Name  Math  Science  English  Total Grade\n",
      "61          62  Ernesta   100       42       95    237     B\n"
     ]
    }
   ],
   "source": [
    "#max marks in math\n",
    "math_max = max(df['Math'])\n",
    "print(math_max)"
   ]
  },
  {
   "cell_type": "code",
   "execution_count": 28,
   "id": "f1d40bac-f101-4147-b352-d8e7764dcfe2",
   "metadata": {},
   "outputs": [
    {
     "name": "stdout",
     "output_type": "stream",
     "text": [
      "File created successfully\n"
     ]
    }
   ],
   "source": [
    "#To save the total value in the new csv file\n",
    "df.to_csv(\"data_new.csv\", index = False)\n",
    "print(\"File created successfully\")"
   ]
  },
  {
   "cell_type": "code",
   "execution_count": 29,
   "id": "cc10ee3f-e018-45b2-b16f-54be624236df",
   "metadata": {},
   "outputs": [
    {
     "name": "stdout",
     "output_type": "stream",
     "text": [
      "Requirement already satisfied: numpy in c:\\users\\k.nisarga\\appdata\\local\\programs\\python\\python313\\lib\\site-packages (2.2.3)\n",
      "Note: you may need to restart the kernel to use updated packages.\n"
     ]
    },
    {
     "name": "stderr",
     "output_type": "stream",
     "text": [
      "\n",
      "[notice] A new release of pip is available: 24.3.1 -> 25.0.1\n",
      "[notice] To update, run: python.exe -m pip install --upgrade pip\n"
     ]
    }
   ],
   "source": [
    "pip install numpy"
   ]
  },
  {
   "cell_type": "code",
   "execution_count": null,
   "id": "5f655310-1058-4554-9c63-3a54786e8144",
   "metadata": {},
   "outputs": [],
   "source": []
  }
 ],
 "metadata": {
  "kernelspec": {
   "display_name": "Python 3 (ipykernel)",
   "language": "python",
   "name": "python3"
  },
  "language_info": {
   "codemirror_mode": {
    "name": "ipython",
    "version": 3
   },
   "file_extension": ".py",
   "mimetype": "text/x-python",
   "name": "python",
   "nbconvert_exporter": "python",
   "pygments_lexer": "ipython3",
   "version": "3.13.2"
  }
 },
 "nbformat": 4,
 "nbformat_minor": 5
}
