{
 "cells": [
  {
   "cell_type": "code",
   "execution_count": 1,
   "id": "d72e1c3d-cbc2-4d97-bb57-d73cbdf24978",
   "metadata": {},
   "outputs": [
    {
     "name": "stdout",
     "output_type": "stream",
     "text": [
      "Version 2.2.3\n"
     ]
    }
   ],
   "source": [
    "import pandas as pd\n",
    "print(\"Version\",pd.__version__)"
   ]
  },
  {
   "cell_type": "code",
   "execution_count": 5,
   "id": "9abd62fa-14cc-4d27-8376-e8d729c3080a",
   "metadata": {},
   "outputs": [
    {
     "name": "stdout",
     "output_type": "stream",
     "text": [
      "0    10\n",
      "1    20\n",
      "2    30\n",
      "3    40\n",
      "4    50\n",
      "5    60\n",
      "dtype: int64\n",
      "40\n"
     ]
    }
   ],
   "source": [
    "a = [10, 20, 30, 40, 50, 60]\n",
    "b = pd.Series(a)\n",
    "print(b)\n",
    "print(b[3])"
   ]
  },
  {
   "cell_type": "code",
   "execution_count": 8,
   "id": "20752b4d-6f72-44ae-8178-eceab26762b5",
   "metadata": {},
   "outputs": [
    {
     "name": "stdout",
     "output_type": "stream",
     "text": [
      "Rice          30\n",
      "Jaggery       79\n",
      "Vermicelli    43\n",
      "dtype: int64\n",
      "30\n"
     ]
    }
   ],
   "source": [
    "a = [30, 79, 43]\n",
    "myvar = pd.Series(a, index = [\"Rice\", \"Jaggery\", \"Vermicelli\"])\n",
    "print(myvar)\n",
    "print(myvar[\"Rice\"])"
   ]
  },
  {
   "cell_type": "code",
   "execution_count": 14,
   "id": "d49d2824-dbdd-44b7-b26c-6d0ce4aa8ffd",
   "metadata": {},
   "outputs": [
    {
     "name": "stdout",
     "output_type": "stream",
     "text": [
      "id                         1\n",
      "name                 Nisarga\n",
      "address    Nisarga@gmail.com\n",
      "Salary             457875967\n",
      "dtype: object\n",
      "id 1\n"
     ]
    }
   ],
   "source": [
    "employee =  {\n",
    "    \"id\" : 1,\n",
    "    \"name\" : \"Nisarga\",\n",
    "    \"address\" : \"Nisarga@gmail.com\",\n",
    "    \"Salary\" : 457875967\n",
    "}\n",
    "\n",
    "data = pd.Series(employee)\n",
    "print(data)\n",
    "print(\"id\", data[\"id\"])"
   ]
  },
  {
   "cell_type": "code",
   "execution_count": 25,
   "id": "77965bc3-8463-4267-8130-1e25448d9dd2",
   "metadata": {},
   "outputs": [
    {
     "name": "stdout",
     "output_type": "stream",
     "text": [
      "   id name\n",
      "0   1    A\n",
      "1   2    B\n",
      "2   3    C\n",
      "3   4    D\n",
      "id      1\n",
      "name    A\n",
      "Name: 0, dtype: object\n"
     ]
    }
   ],
   "source": [
    "sample = {\n",
    "    \"id\" : [1, 2, 3, 4,],\n",
    "    \"name\" : [\"A\", \"B\", \"C\", \"D\"]\n",
    "}\n",
    "df = pd.DataFrame(sample)\n",
    "\n",
    "print(df)\n",
    "print(df.loc[0])\n",
    "# print(df.iloc[0, 1])"
   ]
  },
  {
   "cell_type": "markdown",
   "id": "8d3e4856-f27d-4755-afec-a156eab0e18e",
   "metadata": {},
   "source": [
    "# loc\n",
    "Label-based: loc is used to access a group of rows and columns by labels or a boolean array.\n",
    "Syntax: df.loc[row_label, column_label]\n"
   ]
  },
  {
   "cell_type": "code",
   "execution_count": 38,
   "id": "3c4ca474-e03a-404b-b1ae-8df0dbb39110",
   "metadata": {},
   "outputs": [
    {
     "name": "stdout",
     "output_type": "stream",
     "text": [
      "Name    Bob\n",
      "Age      27\n",
      "Name: 1, dtype: object\n"
     ]
    }
   ],
   "source": [
    "import pandas as pd\n",
    "\n",
    "data = {'Name': ['Alice', 'Bob', 'Charlie', 'David'],\n",
    "        'Age': [24, 27, 22, 32],\n",
    "        'City': ['New York', 'Los Angeles', 'Chicago', 'Houston']}\n",
    "df = pd.DataFrame(data)\n",
    "\n",
    "# Access row with label 1 and columns 'Name' and 'Age'\n",
    "print(df.loc[1, ['Name', 'Age']])"
   ]
  },
  {
   "cell_type": "markdown",
   "id": "6560af13-967b-4c66-b8c1-58cb47d7aa68",
   "metadata": {},
   "source": [
    "# iloc\n",
    "Integer-based: iloc is used to access a group of rows and columns by integer positions (i.e., index-based).\n",
    "Syntax: df.iloc[row_index, column_index]"
   ]
  },
  {
   "cell_type": "code",
   "execution_count": 37,
   "id": "a8a5e578-0eee-4d66-8dc0-f95be1358686",
   "metadata": {},
   "outputs": [
    {
     "name": "stdout",
     "output_type": "stream",
     "text": [
      "   id name\n",
      "0   1    A\n",
      "1   2    B\n",
      "2   3    C\n",
      "3   4    D\n",
      "id      1\n",
      "name    A\n",
      "Name: 0, dtype: object\n",
      "A\n",
      "id      1\n",
      "name    A\n",
      "Name: 0, dtype: object\n"
     ]
    }
   ],
   "source": [
    "sample = {\n",
    "    \"id\" : [1, 2, 3, 4,],\n",
    "    \"name\" : [\"A\", \"B\", \"C\", \"D\"]\n",
    "}\n",
    "df = pd.DataFrame(sample)\n",
    "\n",
    "print(df)\n",
    "print(df.loc[0]) #retrieves the first row by label.\n",
    "print(df.iloc[0, 1])n#retrieves the element in the first row and second column by position.\n",
    "print(df.loc[0]) #gives the same result as the first time."
   ]
  },
  {
   "cell_type": "code",
   "execution_count": 42,
   "id": "62d4ea68-f791-4e9c-9653-1b260c8eefb2",
   "metadata": {},
   "outputs": [
    {
     "name": "stdout",
     "output_type": "stream",
     "text": [
      "   id name\n",
      "0   1    A\n",
      "1   2    B\n",
      "2   3    C\n",
      "3   4    D\n",
      "id      1\n",
      "name    A\n",
      "Name: 0, dtype: object\n"
     ]
    }
   ],
   "source": [
    "sample = {\n",
    "    \"id\" : [1, 2, 3, 4,],\n",
    "    \"name\" : [\"A\", \"B\", \"C\", \"D\"]\n",
    "}\n",
    "df = pd.DataFrame(sample)\n",
    "\n",
    "print(df)\n",
    "print(df.loc[0]) #retrieves the first row by label."
   ]
  },
  {
   "cell_type": "code",
   "execution_count": 44,
   "id": "8d295e30-a55a-4ed7-82a5-6ca01d643ceb",
   "metadata": {},
   "outputs": [
    {
     "name": "stdout",
     "output_type": "stream",
     "text": [
      "   id name\n",
      "0   1    A\n",
      "1   2    B\n",
      "2   3    C\n",
      "3   4    D\n",
      "A\n"
     ]
    }
   ],
   "source": [
    "sample = {\n",
    "    \"id\" : [1, 2, 3, 4,],\n",
    "    \"name\" : [\"A\", \"B\", \"C\", \"D\"]\n",
    "}\n",
    "df = pd.DataFrame(sample)\n",
    "\n",
    "print(df)\n",
    "print(df.iloc[0, 1])#retrieves the element in the first row and second column by position.  ->> row - 0 and column - 1"
   ]
  },
  {
   "cell_type": "code",
   "execution_count": 41,
   "id": "c660f671-54e4-4498-9d8f-cc706c13083d",
   "metadata": {},
   "outputs": [
    {
     "name": "stdout",
     "output_type": "stream",
     "text": [
      "    name  age  salary          email\n",
      "0   alex   23    4556     alex@gamil\n",
      "1  catty   24    7567  cat@gmail.com\n",
      "2    bob   25   57567  bob@gmail.com\n"
     ]
    }
   ],
   "source": [
    "user_data = {\n",
    "    \"name\" : [ \"alex\", \"catty\", \"bob\"],\n",
    "    \"age\" : [23, 24, 25],\n",
    "    \"salary\" : [4556, 7567, 57567],\n",
    "    \"email\" : [\"alex@gamil\", \"cat@gmail.com\", \"bob@gmail.com\"]\n",
    "}\n",
    "\n",
    "df1 = pd.DataFrame(user_data)\n",
    "print(df1)"
   ]
  },
  {
   "cell_type": "code",
   "execution_count": 47,
   "id": "d0bcfc07-68dc-461a-afb6-361bcdb99bc3",
   "metadata": {},
   "outputs": [
    {
     "name": "stdout",
     "output_type": "stream",
     "text": [
      "      Name  Age         city\n",
      "0    Alice   25     New York\n",
      "1      Bob   30  Los Angeles\n",
      "2  Charlie   35     Chichago\n",
      "3    David   40      Houston\n"
     ]
    }
   ],
   "source": [
    "data = [\n",
    "    [\"Alice\", 25, \"New York\"],\n",
    "    [\"Bob\", 30, \"Los Angeles\"],\n",
    "    [\"Charlie\", 35, \"Chichago\"],\n",
    "    [\"David\", 40, \"Houston\"]\n",
    "    ]\n",
    "df = pd.DataFrame(data, columns = [\"Name\", \"Age\", \"city\"])\n",
    "print(df)"
   ]
  },
  {
   "cell_type": "code",
   "execution_count": 48,
   "id": "d8ff14a5-4f0f-4c3a-842d-38cbe4e945a5",
   "metadata": {},
   "outputs": [
    {
     "name": "stdout",
     "output_type": "stream",
     "text": [
      "     id first_name   last_name                       email  gender    grade\n",
      "0     1  Francisco        Lyne          flyne0@vinaora.com    Male  499.156\n",
      "1     2      Kacey  Patrickson  kpatrickson1@webeden.co.uk  Female   68.877\n",
      "2     3    Caddric        Ames           cames2@flavors.me    Male  731.864\n",
      "3     4    Robinet    McGeorge      rmcgeorge3@oaic.gov.au  Female  620.213\n",
      "4     5      Verge  Dracksford     vdracksford4@ebay.co.uk    Male  892.357\n",
      "..  ...        ...         ...                         ...     ...      ...\n",
      "95   96   Ignacius     Edmands     iedmands2n@illinois.edu    Male  481.876\n",
      "96   97    Stavros      Daunay        sdaunay2o@scribd.com    Male  638.307\n",
      "97   98    Damiano     Danelet           ddanelet2p@ft.com    Male  175.205\n",
      "98   99      Adler        Teck              ateck2q@ft.com    Male  774.737\n",
      "99  100    Dominic      Smylie         dsmylie2r@adobe.com    Male  450.091\n",
      "\n",
      "[100 rows x 6 columns]\n"
     ]
    }
   ],
   "source": [
    "df = pd.read_csv(\"MOCK_DATA.CSV\")\n",
    "print(df)"
   ]
  },
  {
   "cell_type": "code",
   "execution_count": 61,
   "id": "55cd7425-2596-4fb8-a120-d19660b309da",
   "metadata": {},
   "outputs": [
    {
     "data": {
      "text/html": [
       "<div>\n",
       "<style scoped>\n",
       "    .dataframe tbody tr th:only-of-type {\n",
       "        vertical-align: middle;\n",
       "    }\n",
       "\n",
       "    .dataframe tbody tr th {\n",
       "        vertical-align: top;\n",
       "    }\n",
       "\n",
       "    .dataframe thead th {\n",
       "        text-align: right;\n",
       "    }\n",
       "</style>\n",
       "<table border=\"1\" class=\"dataframe\">\n",
       "  <thead>\n",
       "    <tr style=\"text-align: right;\">\n",
       "      <th></th>\n",
       "      <th>id</th>\n",
       "      <th>first_name</th>\n",
       "      <th>last_name</th>\n",
       "      <th>email</th>\n",
       "      <th>gender</th>\n",
       "      <th>grade</th>\n",
       "    </tr>\n",
       "  </thead>\n",
       "  <tbody>\n",
       "    <tr>\n",
       "      <th>0</th>\n",
       "      <td>1</td>\n",
       "      <td>Francisco</td>\n",
       "      <td>Lyne</td>\n",
       "      <td>flyne0@vinaora.com</td>\n",
       "      <td>Male</td>\n",
       "      <td>499.156</td>\n",
       "    </tr>\n",
       "    <tr>\n",
       "      <th>1</th>\n",
       "      <td>2</td>\n",
       "      <td>Kacey</td>\n",
       "      <td>Patrickson</td>\n",
       "      <td>kpatrickson1@webeden.co.uk</td>\n",
       "      <td>Female</td>\n",
       "      <td>68.877</td>\n",
       "    </tr>\n",
       "    <tr>\n",
       "      <th>2</th>\n",
       "      <td>3</td>\n",
       "      <td>Caddric</td>\n",
       "      <td>Ames</td>\n",
       "      <td>cames2@flavors.me</td>\n",
       "      <td>Male</td>\n",
       "      <td>731.864</td>\n",
       "    </tr>\n",
       "    <tr>\n",
       "      <th>3</th>\n",
       "      <td>4</td>\n",
       "      <td>Robinet</td>\n",
       "      <td>McGeorge</td>\n",
       "      <td>rmcgeorge3@oaic.gov.au</td>\n",
       "      <td>Female</td>\n",
       "      <td>620.213</td>\n",
       "    </tr>\n",
       "    <tr>\n",
       "      <th>4</th>\n",
       "      <td>5</td>\n",
       "      <td>Verge</td>\n",
       "      <td>Dracksford</td>\n",
       "      <td>vdracksford4@ebay.co.uk</td>\n",
       "      <td>Male</td>\n",
       "      <td>892.357</td>\n",
       "    </tr>\n",
       "  </tbody>\n",
       "</table>\n",
       "</div>"
      ],
      "text/plain": [
       "   id first_name   last_name                       email  gender    grade\n",
       "0   1  Francisco        Lyne          flyne0@vinaora.com    Male  499.156\n",
       "1   2      Kacey  Patrickson  kpatrickson1@webeden.co.uk  Female   68.877\n",
       "2   3    Caddric        Ames           cames2@flavors.me    Male  731.864\n",
       "3   4    Robinet    McGeorge      rmcgeorge3@oaic.gov.au  Female  620.213\n",
       "4   5      Verge  Dracksford     vdracksford4@ebay.co.uk    Male  892.357"
      ]
     },
     "execution_count": 61,
     "metadata": {},
     "output_type": "execute_result"
    }
   ],
   "source": [
    "df.head()"
   ]
  },
  {
   "cell_type": "code",
   "execution_count": 63,
   "id": "d1d81424-b6bf-4caf-b539-6e9d31324956",
   "metadata": {},
   "outputs": [
    {
     "name": "stdout",
     "output_type": "stream",
     "text": [
      "<class 'pandas.core.frame.DataFrame'>\n",
      "RangeIndex: 100 entries, 0 to 99\n",
      "Data columns (total 6 columns):\n",
      " #   Column      Non-Null Count  Dtype  \n",
      "---  ------      --------------  -----  \n",
      " 0   id          100 non-null    int64  \n",
      " 1   first_name  100 non-null    object \n",
      " 2   last_name   100 non-null    object \n",
      " 3   email       100 non-null    object \n",
      " 4   gender      100 non-null    object \n",
      " 5   grade       100 non-null    float64\n",
      "dtypes: float64(1), int64(1), object(4)\n",
      "memory usage: 4.8+ KB\n"
     ]
    }
   ],
   "source": [
    "df.info()"
   ]
  },
  {
   "cell_type": "code",
   "execution_count": 64,
   "id": "46b183d2-2d3f-4545-8bff-17e0627b6a79",
   "metadata": {},
   "outputs": [
    {
     "data": {
      "text/html": [
       "<div>\n",
       "<style scoped>\n",
       "    .dataframe tbody tr th:only-of-type {\n",
       "        vertical-align: middle;\n",
       "    }\n",
       "\n",
       "    .dataframe tbody tr th {\n",
       "        vertical-align: top;\n",
       "    }\n",
       "\n",
       "    .dataframe thead th {\n",
       "        text-align: right;\n",
       "    }\n",
       "</style>\n",
       "<table border=\"1\" class=\"dataframe\">\n",
       "  <thead>\n",
       "    <tr style=\"text-align: right;\">\n",
       "      <th></th>\n",
       "      <th>id</th>\n",
       "      <th>first_name</th>\n",
       "      <th>last_name</th>\n",
       "      <th>email</th>\n",
       "      <th>gender</th>\n",
       "      <th>grade</th>\n",
       "    </tr>\n",
       "  </thead>\n",
       "  <tbody>\n",
       "    <tr>\n",
       "      <th>95</th>\n",
       "      <td>96</td>\n",
       "      <td>Ignacius</td>\n",
       "      <td>Edmands</td>\n",
       "      <td>iedmands2n@illinois.edu</td>\n",
       "      <td>Male</td>\n",
       "      <td>481.876</td>\n",
       "    </tr>\n",
       "    <tr>\n",
       "      <th>96</th>\n",
       "      <td>97</td>\n",
       "      <td>Stavros</td>\n",
       "      <td>Daunay</td>\n",
       "      <td>sdaunay2o@scribd.com</td>\n",
       "      <td>Male</td>\n",
       "      <td>638.307</td>\n",
       "    </tr>\n",
       "    <tr>\n",
       "      <th>97</th>\n",
       "      <td>98</td>\n",
       "      <td>Damiano</td>\n",
       "      <td>Danelet</td>\n",
       "      <td>ddanelet2p@ft.com</td>\n",
       "      <td>Male</td>\n",
       "      <td>175.205</td>\n",
       "    </tr>\n",
       "    <tr>\n",
       "      <th>98</th>\n",
       "      <td>99</td>\n",
       "      <td>Adler</td>\n",
       "      <td>Teck</td>\n",
       "      <td>ateck2q@ft.com</td>\n",
       "      <td>Male</td>\n",
       "      <td>774.737</td>\n",
       "    </tr>\n",
       "    <tr>\n",
       "      <th>99</th>\n",
       "      <td>100</td>\n",
       "      <td>Dominic</td>\n",
       "      <td>Smylie</td>\n",
       "      <td>dsmylie2r@adobe.com</td>\n",
       "      <td>Male</td>\n",
       "      <td>450.091</td>\n",
       "    </tr>\n",
       "  </tbody>\n",
       "</table>\n",
       "</div>"
      ],
      "text/plain": [
       "     id first_name last_name                    email gender    grade\n",
       "95   96   Ignacius   Edmands  iedmands2n@illinois.edu   Male  481.876\n",
       "96   97    Stavros    Daunay     sdaunay2o@scribd.com   Male  638.307\n",
       "97   98    Damiano   Danelet        ddanelet2p@ft.com   Male  175.205\n",
       "98   99      Adler      Teck           ateck2q@ft.com   Male  774.737\n",
       "99  100    Dominic    Smylie      dsmylie2r@adobe.com   Male  450.091"
      ]
     },
     "execution_count": 64,
     "metadata": {},
     "output_type": "execute_result"
    }
   ],
   "source": [
    "df.tail()"
   ]
  },
  {
   "cell_type": "code",
   "execution_count": 65,
   "id": "9fb57d53-6b26-4025-a3b6-c5f110ba7ce8",
   "metadata": {},
   "outputs": [
    {
     "data": {
      "text/html": [
       "<div>\n",
       "<style scoped>\n",
       "    .dataframe tbody tr th:only-of-type {\n",
       "        vertical-align: middle;\n",
       "    }\n",
       "\n",
       "    .dataframe tbody tr th {\n",
       "        vertical-align: top;\n",
       "    }\n",
       "\n",
       "    .dataframe thead th {\n",
       "        text-align: right;\n",
       "    }\n",
       "</style>\n",
       "<table border=\"1\" class=\"dataframe\">\n",
       "  <thead>\n",
       "    <tr style=\"text-align: right;\">\n",
       "      <th></th>\n",
       "      <th>id</th>\n",
       "      <th>grade</th>\n",
       "    </tr>\n",
       "  </thead>\n",
       "  <tbody>\n",
       "    <tr>\n",
       "      <th>count</th>\n",
       "      <td>100.000000</td>\n",
       "      <td>100.000000</td>\n",
       "    </tr>\n",
       "    <tr>\n",
       "      <th>mean</th>\n",
       "      <td>50.500000</td>\n",
       "      <td>513.033350</td>\n",
       "    </tr>\n",
       "    <tr>\n",
       "      <th>std</th>\n",
       "      <td>29.011492</td>\n",
       "      <td>273.268106</td>\n",
       "    </tr>\n",
       "    <tr>\n",
       "      <th>min</th>\n",
       "      <td>1.000000</td>\n",
       "      <td>35.536000</td>\n",
       "    </tr>\n",
       "    <tr>\n",
       "      <th>25%</th>\n",
       "      <td>25.750000</td>\n",
       "      <td>272.300000</td>\n",
       "    </tr>\n",
       "    <tr>\n",
       "      <th>50%</th>\n",
       "      <td>50.500000</td>\n",
       "      <td>527.085500</td>\n",
       "    </tr>\n",
       "    <tr>\n",
       "      <th>75%</th>\n",
       "      <td>75.250000</td>\n",
       "      <td>731.601500</td>\n",
       "    </tr>\n",
       "    <tr>\n",
       "      <th>max</th>\n",
       "      <td>100.000000</td>\n",
       "      <td>985.432000</td>\n",
       "    </tr>\n",
       "  </tbody>\n",
       "</table>\n",
       "</div>"
      ],
      "text/plain": [
       "               id       grade\n",
       "count  100.000000  100.000000\n",
       "mean    50.500000  513.033350\n",
       "std     29.011492  273.268106\n",
       "min      1.000000   35.536000\n",
       "25%     25.750000  272.300000\n",
       "50%     50.500000  527.085500\n",
       "75%     75.250000  731.601500\n",
       "max    100.000000  985.432000"
      ]
     },
     "execution_count": 65,
     "metadata": {},
     "output_type": "execute_result"
    }
   ],
   "source": [
    "df.describe()"
   ]
  },
  {
   "cell_type": "code",
   "execution_count": 58,
   "id": "4ce05f59-c4d2-4717-844a-905b1b8fbb09",
   "metadata": {},
   "outputs": [
    {
     "name": "stdout",
     "output_type": "stream",
     "text": [
      "0       1\n",
      "1       2\n",
      "2       3\n",
      "3       4\n",
      "4       5\n",
      "     ... \n",
      "95     96\n",
      "96     97\n",
      "97     98\n",
      "98     99\n",
      "99    100\n",
      "Name: id, Length: 100, dtype: int64\n"
     ]
    }
   ],
   "source": [
    "print(df[\"id\"])"
   ]
  },
  {
   "cell_type": "code",
   "execution_count": 66,
   "id": "eaac2684-6285-432a-8312-06ef3b6fed1f",
   "metadata": {},
   "outputs": [
    {
     "data": {
      "text/html": [
       "<div>\n",
       "<style scoped>\n",
       "    .dataframe tbody tr th:only-of-type {\n",
       "        vertical-align: middle;\n",
       "    }\n",
       "\n",
       "    .dataframe tbody tr th {\n",
       "        vertical-align: top;\n",
       "    }\n",
       "\n",
       "    .dataframe thead th {\n",
       "        text-align: right;\n",
       "    }\n",
       "</style>\n",
       "<table border=\"1\" class=\"dataframe\">\n",
       "  <thead>\n",
       "    <tr style=\"text-align: right;\">\n",
       "      <th></th>\n",
       "      <th>id</th>\n",
       "      <th>first_name</th>\n",
       "    </tr>\n",
       "  </thead>\n",
       "  <tbody>\n",
       "    <tr>\n",
       "      <th>0</th>\n",
       "      <td>1</td>\n",
       "      <td>Francisco</td>\n",
       "    </tr>\n",
       "    <tr>\n",
       "      <th>1</th>\n",
       "      <td>2</td>\n",
       "      <td>Kacey</td>\n",
       "    </tr>\n",
       "    <tr>\n",
       "      <th>2</th>\n",
       "      <td>3</td>\n",
       "      <td>Caddric</td>\n",
       "    </tr>\n",
       "    <tr>\n",
       "      <th>3</th>\n",
       "      <td>4</td>\n",
       "      <td>Robinet</td>\n",
       "    </tr>\n",
       "    <tr>\n",
       "      <th>4</th>\n",
       "      <td>5</td>\n",
       "      <td>Verge</td>\n",
       "    </tr>\n",
       "    <tr>\n",
       "      <th>...</th>\n",
       "      <td>...</td>\n",
       "      <td>...</td>\n",
       "    </tr>\n",
       "    <tr>\n",
       "      <th>95</th>\n",
       "      <td>96</td>\n",
       "      <td>Ignacius</td>\n",
       "    </tr>\n",
       "    <tr>\n",
       "      <th>96</th>\n",
       "      <td>97</td>\n",
       "      <td>Stavros</td>\n",
       "    </tr>\n",
       "    <tr>\n",
       "      <th>97</th>\n",
       "      <td>98</td>\n",
       "      <td>Damiano</td>\n",
       "    </tr>\n",
       "    <tr>\n",
       "      <th>98</th>\n",
       "      <td>99</td>\n",
       "      <td>Adler</td>\n",
       "    </tr>\n",
       "    <tr>\n",
       "      <th>99</th>\n",
       "      <td>100</td>\n",
       "      <td>Dominic</td>\n",
       "    </tr>\n",
       "  </tbody>\n",
       "</table>\n",
       "<p>100 rows × 2 columns</p>\n",
       "</div>"
      ],
      "text/plain": [
       "     id first_name\n",
       "0     1  Francisco\n",
       "1     2      Kacey\n",
       "2     3    Caddric\n",
       "3     4    Robinet\n",
       "4     5      Verge\n",
       "..  ...        ...\n",
       "95   96   Ignacius\n",
       "96   97    Stavros\n",
       "97   98    Damiano\n",
       "98   99      Adler\n",
       "99  100    Dominic\n",
       "\n",
       "[100 rows x 2 columns]"
      ]
     },
     "execution_count": 66,
     "metadata": {},
     "output_type": "execute_result"
    }
   ],
   "source": [
    "df[[\"id\", \"first_name\"]]"
   ]
  },
  {
   "cell_type": "code",
   "execution_count": 70,
   "id": "0bdf08f1-8497-4420-8b1e-5c01fd5d2e56",
   "metadata": {},
   "outputs": [
    {
     "data": {
      "text/plain": [
       "(100, 6)"
      ]
     },
     "execution_count": 70,
     "metadata": {},
     "output_type": "execute_result"
    }
   ],
   "source": [
    "df.shape"
   ]
  },
  {
   "cell_type": "code",
   "execution_count": 69,
   "id": "d49a1efc-d23b-423b-9d33-909b068032fe",
   "metadata": {},
   "outputs": [
    {
     "name": "stdout",
     "output_type": "stream",
     "text": [
      "     id first_name     last_name                                   email       gender    grade\n",
      "0     1  Francisco          Lyne                      flyne0@vinaora.com         Male  499.156\n",
      "1     2      Kacey    Patrickson              kpatrickson1@webeden.co.uk       Female   68.877\n",
      "2     3    Caddric          Ames                       cames2@flavors.me         Male  731.864\n",
      "3     4    Robinet      McGeorge                  rmcgeorge3@oaic.gov.au       Female  620.213\n",
      "4     5      Verge    Dracksford                 vdracksford4@ebay.co.uk         Male  892.357\n",
      "5     6     Darren      Scannell                  dscannell5@tinyurl.com         Male  660.925\n",
      "6     7        Lin        Vieyra                lvieyra6@tripadvisor.com         Male  876.737\n",
      "7     8   Vivyanne         Anand                    vanand7@multiply.com       Female  203.013\n",
      "8     9    Everard        Curwen                    ecurwen8@weather.com         Male  478.570\n",
      "9    10      Allyn      O' Ronan                     aoronan9@paypal.com       Female  657.031\n",
      "10   11   Carlotta       Barling                  cbarlinga@china.com.cn  Genderfluid  478.783\n",
      "11   12    Meridel       Primmer                        mprimmerb@go.com       Female  359.350\n",
      "12   13    Marleah   Lethibridge             mlethibridgec@cafepress.com  Genderfluid   54.451\n",
      "13   14      Megen      Bowskill                      mbowskilld@nih.gov       Female  503.966\n",
      "14   15    Lisbeth    McTrustrie                lmctrustriee@t-online.de       Female  501.192\n",
      "15   16  Sherlocke        Broker                  sbrokerf@princeton.edu     Bigender  731.514\n",
      "16   17  Francesco     Beresford              fberesfordg@bravesites.com   Polygender  767.059\n",
      "17   18     Gerrie     Armatidge             garmatidgeh@liveinternet.ru       Female  313.130\n",
      "18   19        Way       Linnitt               wlinnitti@istockphoto.com         Male  760.756\n",
      "19   20     Tommie       Cunradi                   tcunradij@yahoo.co.jp       Female  121.018\n",
      "20   21      Cybil        Cameli                        ccamelik@mit.edu       Female  795.518\n",
      "21   22     Vasily    Dundendale                 vdundendalel@hao123.com         Male  593.997\n",
      "22   23       Chev         Apfel                     capfelm@sina.com.cn         Male  425.731\n",
      "23   24       Luke       Undrill                 lundrilln@earthlink.net         Male  876.128\n",
      "24   25   Berenice       Hayward                      bhaywardo@dell.com     Bigender  919.513\n",
      "25   26     Elisha       Rumbold                      erumboldp@xing.com       Female  528.661\n",
      "26   27      Cheri      Pickwell               cpickwellq@altervista.org       Female  729.595\n",
      "27   28     Devlin       Rawdall                drawdallr@craigslist.org      Agender  581.918\n",
      "28   29    Obadiah        Marlon                      omarlons@patch.com         Male  862.238\n",
      "29   30     Milzie         Esley                    mesleyt@hubpages.com       Female  550.019\n",
      "30   31      Shari      O'Dreain                   sodreainu@mozilla.com       Female  886.042\n",
      "31   32    Brennen         Shank                         bshankv@home.pl         Male   87.018\n",
      "32   33     Kellby  Van Der Walt           kvanderwaltw@businessweek.com         Male  696.534\n",
      "33   34    Edeline         Cakes                  ecakesx@opensource.org       Female  764.944\n",
      "34   35     Kesley        Rodden                        kroddeny@wsj.com       Female   37.016\n",
      "35   36        Bud     Benedicto                       bbenedictoz@51.la         Male  147.000\n",
      "36   37     Estele     Longlands                   elonglands10@etsy.com       Female  530.458\n",
      "37   38       Dory         Prene                      dprene11@google.nl       Female  662.874\n",
      "38   39     Reuven      Capehorn                   rcapehorn12@mysql.com         Male  980.027\n",
      "39   40      Lilly      Cheltnam                lcheltnam13@symantec.com       Female  707.561\n",
      "40   41      Daryn         Horry                     dhorry14@weebly.com       Female  355.708\n",
      "41   42    Lorilyn       Teasell                  lteasell15@nbcnews.com       Female   71.586\n",
      "42   43    Kalinda         Skipp                    kskipp16@vinaora.com       Female  525.510\n",
      "43   44  Hyacintha     Clementel              hclementel17@over-blog.com       Female  247.804\n",
      "44   45    Chelsie    Collacombe               ccollacombe18@weather.com       Female  646.039\n",
      "45   46       Bern        Nolder                     bnolder19@google.de         Male  142.127\n",
      "46   47      Davon         Towle                   dtowle1a@marriott.com         Male  651.072\n",
      "47   48      Filia   Bricklebank              fbricklebank1b@harvard.edu       Female  480.785\n",
      "48   49      Dotti       Chiplen               dchiplen1c@prnewswire.com       Female   97.980\n",
      "49   50       Oran          Larn                   olarn1d@wordpress.com         Male  210.506\n",
      "50   51     Connie      Murrigan                  cmurrigan1e@zimbio.com         Male  670.568\n",
      "51   52  Marylinda       Denizet                     mdenizet1f@about.me       Female  474.955\n",
      "52   53      Mindy     Everleigh               meverleigh1g@amazon.co.jp       Female  647.894\n",
      "53   54  Gilemette        Parkey                    gparkey1h@cpanel.net       Female  143.404\n",
      "54   55   Ludovika      Sherwood                     lsherwood1i@soup.io   Polygender  914.817\n",
      "55   56     Donalt       Dalling          ddalling1j@businessinsider.com         Male  852.336\n",
      "56   57   Hyacinth       Saywood               hsaywood1k@mayoclinic.com       Female  258.329\n",
      "57   58   Clerissa      Gilloran                  cgilloran1l@forbes.com       Female  112.196\n",
      "58   59    Alyosha    MacFarland              amacfarland1m@china.com.cn         Male  413.633\n",
      "59   60     Veriee         Szach                     vszach1n@boston.com   Non-binary  177.013\n",
      "60   61     Stormi          Lark                slark1o@businessweek.com       Female  276.957\n",
      "61   62       Jeno        Beefon                 jbeefon1p@pinterest.com         Male  579.606\n",
      "62   63   Terencio      Whitcomb               twhitcomb1q@webeden.co.uk         Male  625.696\n",
      "63   64    Frannie     Millichap            fmillichap1r@bizjournals.com       Female  399.500\n",
      "64   65        Bee        Cowsby                      bcowsby1s@live.com       Female  985.432\n",
      "65   66   Parrnell         Stuer                      pstuer1t@youku.com         Male  629.456\n",
      "66   67     Verena         Harms                       vharms1u@hibu.com       Female  393.251\n",
      "67   68   Gonzales        Cleyne                gcleyne1v@techcrunch.com         Male  975.805\n",
      "68   69      Mikol   Saundercock        msaundercock1w@cocolog-nifty.com         Male  832.979\n",
      "69   70     Dallas          Beyn                      dbeyn1x@elpais.com         Male  205.941\n",
      "70   71    Eleanor      Dickings               edickings1y@webeden.co.uk       Female   98.942\n",
      "71   72      Jaine         Trank                          jtrank1z@is.gd  Genderfluid  693.009\n",
      "72   73       Jock       Shannon                   jshannon20@utexas.edu         Male  947.893\n",
      "73   74    Graehme          Pott                         gpott21@msu.edu         Male  815.495\n",
      "74   75     Gideon      Gammidge                ggammidge22@bluehost.com         Male  202.734\n",
      "75   76      Giffy      Davenell                 gdavenell23@oaic.gov.au      Agender  748.560\n",
      "76   77      Carin        Joncic                    cjoncic24@flavors.me       Female  329.037\n",
      "77   78      Hobey       Blenkin                    hblenkin25@tmall.com         Male  571.477\n",
      "78   79      Julee        Badsey                   jbadsey26@mozilla.com       Female  466.987\n",
      "79   80      Karil         Kaman                     kkaman27@forbes.com       Female  398.853\n",
      "80   81     Marwin        Godman                mgodman28@soundcloud.com         Male  142.284\n",
      "81   82     Kinnie         Nouch                  knouch29@clickbank.net         Male  873.977\n",
      "82   83       Elia        Skyppe                 eskyppe2a@imageshack.us         Male  277.942\n",
      "83   84       Gris    Barnewille                   gbarnewille2b@epa.gov         Male  552.316\n",
      "84   85     Davide  Bickerstaffe  dbickerstaffe2c@scientificamerican.com         Male  423.922\n",
      "85   86      Dolph      Adriaens                    dadriaens2d@gmpg.org         Male  139.519\n",
      "86   87      Ozzie         Jeppe                     ojeppe2e@tripod.com         Male  938.771\n",
      "87   88     Spence     Greenwell                  sgreenwell2f@exblog.jp         Male   35.536\n",
      "88   89   Alasteir      Monteaux               amonteaux2g@wordpress.org         Male  878.819\n",
      "89   90      Derry        Roache                     droache2h@nymag.com         Male  212.352\n",
      "90   91  Sigismund      Pressdee           spressdee2i@sciencedirect.com         Male  434.213\n",
      "91   92     Gibbie    Macconaghy              gmacconaghy2j@hubpages.com         Male  240.524\n",
      "92   93    Marilyn      Brocking                mbrocking2k@japanpost.jp       Female  312.467\n",
      "93   94     Shamus         Kikke                    skikke2l@dedecms.com         Male  805.589\n",
      "94   95  Sebastien       Fairlaw                sfairlaw2m@bloomberg.com         Male  600.262\n",
      "95   96   Ignacius       Edmands                 iedmands2n@illinois.edu         Male  481.876\n",
      "96   97    Stavros        Daunay                    sdaunay2o@scribd.com         Male  638.307\n",
      "97   98    Damiano       Danelet                       ddanelet2p@ft.com         Male  175.205\n",
      "98   99      Adler          Teck                          ateck2q@ft.com         Male  774.737\n",
      "99  100    Dominic        Smylie                     dsmylie2r@adobe.com         Male  450.091\n"
     ]
    }
   ],
   "source": [
    "print(df.to_string())"
   ]
  },
  {
   "cell_type": "code",
   "execution_count": 71,
   "id": "8bafdcd7-c677-4212-8a1f-1cd6b16f5ba0",
   "metadata": {},
   "outputs": [
    {
     "data": {
      "text/html": [
       "<div>\n",
       "<style scoped>\n",
       "    .dataframe tbody tr th:only-of-type {\n",
       "        vertical-align: middle;\n",
       "    }\n",
       "\n",
       "    .dataframe tbody tr th {\n",
       "        vertical-align: top;\n",
       "    }\n",
       "\n",
       "    .dataframe thead th {\n",
       "        text-align: right;\n",
       "    }\n",
       "</style>\n",
       "<table border=\"1\" class=\"dataframe\">\n",
       "  <thead>\n",
       "    <tr style=\"text-align: right;\">\n",
       "      <th></th>\n",
       "      <th>id</th>\n",
       "      <th>first_name</th>\n",
       "    </tr>\n",
       "  </thead>\n",
       "  <tbody>\n",
       "    <tr>\n",
       "      <th>0</th>\n",
       "      <td>1</td>\n",
       "      <td>Francisco</td>\n",
       "    </tr>\n",
       "    <tr>\n",
       "      <th>1</th>\n",
       "      <td>2</td>\n",
       "      <td>Kacey</td>\n",
       "    </tr>\n",
       "    <tr>\n",
       "      <th>2</th>\n",
       "      <td>3</td>\n",
       "      <td>Caddric</td>\n",
       "    </tr>\n",
       "    <tr>\n",
       "      <th>3</th>\n",
       "      <td>4</td>\n",
       "      <td>Robinet</td>\n",
       "    </tr>\n",
       "    <tr>\n",
       "      <th>4</th>\n",
       "      <td>5</td>\n",
       "      <td>Verge</td>\n",
       "    </tr>\n",
       "  </tbody>\n",
       "</table>\n",
       "</div>"
      ],
      "text/plain": [
       "   id first_name\n",
       "0   1  Francisco\n",
       "1   2      Kacey\n",
       "2   3    Caddric\n",
       "3   4    Robinet\n",
       "4   5      Verge"
      ]
     },
     "execution_count": 71,
     "metadata": {},
     "output_type": "execute_result"
    }
   ],
   "source": [
    "df[[\"id\", \"first_name\"]].head()"
   ]
  },
  {
   "cell_type": "code",
   "execution_count": 72,
   "id": "75fe9f5f-4530-4d87-b0f9-00b3d8bfc6b6",
   "metadata": {},
   "outputs": [
    {
     "data": {
      "text/plain": [
       "count    100.000000\n",
       "mean     513.033350\n",
       "std      273.268106\n",
       "min       35.536000\n",
       "25%      272.300000\n",
       "50%      527.085500\n",
       "75%      731.601500\n",
       "max      985.432000\n",
       "Name: grade, dtype: float64"
      ]
     },
     "execution_count": 72,
     "metadata": {},
     "output_type": "execute_result"
    }
   ],
   "source": [
    "df[\"grade\"].describe()"
   ]
  },
  {
   "cell_type": "code",
   "execution_count": null,
   "id": "f059c3c9-458b-4974-a024-c6e292ae1406",
   "metadata": {},
   "outputs": [],
   "source": []
  }
 ],
 "metadata": {
  "kernelspec": {
   "display_name": "Python 3 (ipykernel)",
   "language": "python",
   "name": "python3"
  },
  "language_info": {
   "codemirror_mode": {
    "name": "ipython",
    "version": 3
   },
   "file_extension": ".py",
   "mimetype": "text/x-python",
   "name": "python",
   "nbconvert_exporter": "python",
   "pygments_lexer": "ipython3",
   "version": "3.13.2"
  }
 },
 "nbformat": 4,
 "nbformat_minor": 5
}
