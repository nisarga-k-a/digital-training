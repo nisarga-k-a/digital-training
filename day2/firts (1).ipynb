{
 "cells": [
  {
   "cell_type": "code",
   "execution_count": 1,
   "id": "0a5d1ecf-5e69-4506-8f71-f1a8ddd04052",
   "metadata": {},
   "outputs": [
    {
     "name": "stdout",
     "output_type": "stream",
     "text": [
      "Hello World\n"
     ]
    }
   ],
   "source": [
    "# print(\"Hello World\")"
   ]
  },
  {
   "cell_type": "code",
   "execution_count": null,
   "id": "d3da0afa-de01-4688-9b3d-f7550bd8f27b",
   "metadata": {},
   "outputs": [],
   "source": [
    "print(\"Hello World\")"
   ]
  },
  {
   "cell_type": "code",
   "execution_count": 3,
   "id": "60b7e1fa-906f-4018-ba1d-a92fc8708518",
   "metadata": {},
   "outputs": [
    {
     "name": "stdout",
     "output_type": "stream",
     "text": [
      "What are the features in the python\n"
     ]
    }
   ],
   "source": [
    "'''fdvg\n",
    "mkv kdfgv'''\n",
    "print(\"What are the features in the python\")"
   ]
  },
  {
   "cell_type": "code",
   "execution_count": 9,
   "id": "c546c80a-b2f2-4244-9af7-e2dddc67ace2",
   "metadata": {},
   "outputs": [
    {
     "name": "stdout",
     "output_type": "stream",
     "text": [
      "Number2 20\n",
      "Number2 is 10\n"
     ]
    }
   ],
   "source": [
    "num1 = 10\n",
    "num2 = 20\n",
    "name = \"MindSprint\"\n",
    "\n",
    "# print(\"Number1\" num1)\n",
    "print(f\"Number2 {num2}\")\n",
    "print(\"Number2 is\", num1)"
   ]
  },
  {
   "cell_type": "code",
   "execution_count": 11,
   "id": "320484a7-3408-4545-b453-0294bc5fccd9",
   "metadata": {},
   "outputs": [
    {
     "name": "stdout",
     "output_type": "stream",
     "text": [
      "The number of fruits are 2 and 4\n"
     ]
    }
   ],
   "source": [
    "apple = 2\n",
    "orange = 4\n",
    "\n",
    "result = f\"The number of fruits are {apple} and {orange}\" \n",
    "print(result)"
   ]
  },
  {
   "cell_type": "code",
   "execution_count": 12,
   "id": "afaf7a5a-bcbe-4ba4-bfe3-c076a5c99970",
   "metadata": {},
   "outputs": [
    {
     "name": "stdout",
     "output_type": "stream",
     "text": [
      "test1   test2   test3\n"
     ]
    }
   ],
   "source": [
    "x,y,z = \"test1\" , \"test2\", \"test3\"\n",
    "print(x,\" \", y, \" \", z)"
   ]
  },
  {
   "cell_type": "code",
   "execution_count": 13,
   "id": "ef782dc6-3429-4e8a-a865-b87897570480",
   "metadata": {},
   "outputs": [
    {
     "name": "stdout",
     "output_type": "stream",
     "text": [
      "temp   temp   temp\n"
     ]
    }
   ],
   "source": [
    "p = q = r = \"temp\"\n",
    "print(p, \" \", q, \" \", r)"
   ]
  },
  {
   "cell_type": "code",
   "execution_count": 23,
   "id": "b27bd2f3-3109-46b2-afbc-60135a6c31f8",
   "metadata": {},
   "outputs": [
    {
     "name": "stdin",
     "output_type": "stream",
     "text": [
      "Enter first number 3\n",
      "Enter sec number 2\n"
     ]
    },
    {
     "name": "stdout",
     "output_type": "stream",
     "text": [
      "Addition of two numbers: 5\n",
      "Subtraction of two numbers: 1\n",
      "Multiplication of two numbers: 6\n",
      "Divide of two numbers: 1.5\n",
      "Floor Division 1\n",
      "Exponential: 9\n"
     ]
    }
   ],
   "source": [
    "num1 = int(input(\"Enter first number\"))\n",
    "num2 = int(input(\"Enter sec number\"))\n",
    "\n",
    "# print(\"Addition of two numbers: \", int(num1) + int(num2))\n",
    "print(\"Addition of two numbers:\" ,num1 + num2)\n",
    "print(\"Subtraction of two numbers:\" ,num1 - num2)\n",
    "print(\"Multiplication of two numbers:\" ,num1 * num2)\n",
    "print(\"Divide of two numbers:\" ,num1 / num2)\n",
    "print(\"Floor Division\" ,num1 // num2)\n",
    "print(\"Exponential:\", num1 ** num2)"
   ]
  },
  {
   "cell_type": "code",
   "execution_count": 25,
   "id": "32e44d1c-e9e9-4417-913d-910e467f8b2d",
   "metadata": {},
   "outputs": [
    {
     "name": "stdout",
     "output_type": "stream",
     "text": [
      "Is num1 equal to num2:  False\n",
      "Is num1 greater than num2:  False\n",
      "Is num1 less than num2:  True\n",
      "Is num1 greater than or equal to num2:  True\n",
      "Is num1 less than or equla to num2:  False\n"
     ]
    }
   ],
   "source": [
    "num1 = 23\n",
    "num2 = 78\n",
    "\n",
    "print(\"Is num1 equal to num2: \", num1 == num2)\n",
    "print(\"Is num1 greater than num2: \", num1 > num2)\n",
    "print(\"Is num1 less than num2: \", num1 < num2)\n",
    "print(\"Is num1 greater than or equal to num2: \", num1 <= num2)\n",
    "print(\"Is num1 less than or equla to num2: \", num1 >= num2)"
   ]
  },
  {
   "cell_type": "code",
   "execution_count": 30,
   "id": "52db2062-55fe-452d-b993-e7a1a505923c",
   "metadata": {},
   "outputs": [
    {
     "name": "stdin",
     "output_type": "stream",
     "text": [
      "Enter the number 45\n"
     ]
    },
    {
     "name": "stdout",
     "output_type": "stream",
     "text": [
      "45\n",
      "46\n",
      "45\n"
     ]
    },
    {
     "name": "stdin",
     "output_type": "stream",
     "text": [
      "Enter the other number 32\n"
     ]
    },
    {
     "name": "stdout",
     "output_type": "stream",
     "text": [
      "13\n"
     ]
    }
   ],
   "source": [
    "num1 = int(input(\"Enter the number\"))\n",
    "print(num1)\n",
    "num1 += 1\n",
    "print(num1)\n",
    "\n",
    "num1 -= 1\n",
    "print(num1)\n",
    "\n",
    "num2 = int(input(\"Enter the other number\"))\n",
    "\n",
    "result = num1 % num2\n",
    "print(result)"
   ]
  },
  {
   "cell_type": "markdown",
   "id": "89206a55-9866-448c-b8f0-432b0c01ef5e",
   "metadata": {},
   "source": [
    "## Logical operator\n"
   ]
  },
  {
   "cell_type": "code",
   "execution_count": 4,
   "id": "a422c43a-e034-4e13-86a8-17891c73f555",
   "metadata": {},
   "outputs": [
    {
     "name": "stdin",
     "output_type": "stream",
     "text": [
      "Enter the email gjfg\n",
      "Enter the password hngv\n"
     ]
    },
    {
     "name": "stdout",
     "output_type": "stream",
     "text": [
      "False\n"
     ]
    }
   ],
   "source": [
    "# name = \"hello1\"\n",
    "# name2 = \"hello2\"\n",
    "email = input(\"Enter the email\")\n",
    "password = input(\"Enter the password\")\n",
    "if email == 'admin@gmail.com' and password == 'admin@123':\n",
    "    print(True)\n",
    "else:\n",
    "    print(False)"
   ]
  },
  {
   "cell_type": "code",
   "execution_count": 5,
   "id": "c694f7d9-255b-49bc-883f-5a8804f7cffc",
   "metadata": {},
   "outputs": [
    {
     "name": "stdout",
     "output_type": "stream",
     "text": [
      "Zero\n"
     ]
    }
   ],
   "source": [
    "num = 0\n",
    "if num > 0:\n",
    "    print(\"Positive number\")\n",
    "elif num == 0:\n",
    "    print(\"Zero\")\n",
    "else:\n",
    "    print(\"Negative number\")"
   ]
  },
  {
   "cell_type": "code",
   "execution_count": 7,
   "id": "fb2f3783-3a48-4e39-b68c-339c871b4363",
   "metadata": {},
   "outputs": [
    {
     "name": "stdout",
     "output_type": "stream",
     "text": [
      "positive\n"
     ]
    }
   ],
   "source": [
    "num = 5\n",
    "print(\"positive\") if num > 0 else print(\"Negative\")"
   ]
  },
  {
   "cell_type": "code",
   "execution_count": 6,
   "id": "aea23220-10e7-4499-b159-f9f36fbe7887",
   "metadata": {},
   "outputs": [
    {
     "name": "stdout",
     "output_type": "stream",
     "text": [
      "Positive number\n"
     ]
    }
   ],
   "source": [
    "num = 9\n",
    "if num > 0:\n",
    "    print(\"Positive number\")"
   ]
  },
  {
   "cell_type": "code",
   "execution_count": 10,
   "id": "2de706c2-e6fb-4296-9bc9-f0caab7ca3a3",
   "metadata": {},
   "outputs": [
    {
     "name": "stdin",
     "output_type": "stream",
     "text": [
      "Enter the number : 56\n"
     ]
    },
    {
     "name": "stdout",
     "output_type": "stream",
     "text": [
      "Positive and even number\n"
     ]
    }
   ],
   "source": [
    "# num = 15\n",
    "num = int(input(\"Enter the number :\" ))\n",
    "if num > 0:\n",
    "    if num % 2 == 0:\n",
    "        print(\"Positive and even number\")\n",
    "    else:\n",
    "        print(\"Positive and odd number\")\n",
    "else:\n",
    "    print(\"Negative number\")"
   ]
  },
  {
   "cell_type": "code",
   "execution_count": 12,
   "id": "91b237bf-3626-48ef-8bfe-80d8e637ec1a",
   "metadata": {},
   "outputs": [
    {
     "name": "stdout",
     "output_type": "stream",
     "text": [
      "This is a place holder code\n"
     ]
    }
   ],
   "source": [
    "# pass - place holder\n",
    "\n",
    "num = -8\n",
    "if num > 0:\n",
    "    pass\n",
    "else:\n",
    "    print(\"This is a place holder code\")"
   ]
  },
  {
   "cell_type": "code",
   "execution_count": 20,
   "id": "80fdafa3-49eb-4ee8-8d67-ae9aa232bf75",
   "metadata": {},
   "outputs": [
    {
     "name": "stdin",
     "output_type": "stream",
     "text": [
      "Enter the marks btw (out of 100)  98\n"
     ]
    },
    {
     "name": "stdout",
     "output_type": "stream",
     "text": [
      "Grade A\n"
     ]
    }
   ],
   "source": [
    "grade = int(input(\"Enter the marks btw (out of 100) \"))\n",
    "\n",
    "if grade >= 90 and grade <= 100:\n",
    "    print(\"Grade A\")\n",
    "elif grade >= 80 and grade < 90:\n",
    "    print(\"Grade B\")\n",
    "elif grade >= 70 and grade < 80:\n",
    "    print(\"Grade C\")\n",
    "elif grade >= 60 and grade < 70:\n",
    "    print(\"Grade D\")\n",
    "else:\n",
    "    print(\"Enter the correct grade\")\n"
   ]
  },
  {
   "cell_type": "code",
   "execution_count": 5,
   "id": "0148ddb1-2d9c-436d-aee7-6d7706389b42",
   "metadata": {},
   "outputs": [
    {
     "name": "stdin",
     "output_type": "stream",
     "text": [
      "Enter the number -9\n"
     ]
    },
    {
     "name": "stdout",
     "output_type": "stream",
     "text": [
      "Error\n"
     ]
    }
   ],
   "source": [
    "num = int(input(\"Enter the number\"))\n",
    "if num > 0:\n",
    "    if num % 2 == 0:\n",
    "        print(\"It is even number\")\n",
    "    else:\n",
    "        print(\"It is odd number\")\n",
    "elif num == 0:\n",
    "    print(\"Its ZERO!!\")\n",
    "elif num < 0:\n",
    "    if num < -10:\n",
    "        print(\"The number is less than -10\")\n",
    "    else:\n",
    "        print(\"Error\")\n",
    "\n"
   ]
  },
  {
   "cell_type": "code",
   "execution_count": 13,
   "id": "a81bab8d-162a-48f2-ac97-208d323fa08e",
   "metadata": {},
   "outputs": [
    {
     "name": "stdin",
     "output_type": "stream",
     "text": [
      "Enter the purchase amount 400\n"
     ]
    },
    {
     "name": "stdout",
     "output_type": "stream",
     "text": [
      " The final price is:  360.0\n"
     ]
    }
   ],
   "source": [
    "amt = int(input(\"Enter the purchase amount\"))\n",
    "if amt > 500:\n",
    "          print(\"Im giving the 20 % discount\")\n",
    "          discounted_price = ((20 * amt) / 100 )\n",
    "          final_price = amt - discounted_price\n",
    "          print(\"The final price is: \", final_price)\n",
    "elif amt >= 200 and amt <= 500:\n",
    "          discounted_price1 = ((10 * amt) / 100)\n",
    "          final_price = amt - discounted_price1\n",
    "          print(\" The final price is: \", final_price)\n",
    "elif amt < 200:\n",
    "          print(\"There is no discount\")\n",
    "          print(\"The final price is: \", amt)\n",
    "\n",
    "          "
   ]
  },
  {
   "cell_type": "code",
   "execution_count": 15,
   "id": "7de7cb16-9761-4946-9c98-ef764a765bd1",
   "metadata": {},
   "outputs": [
    {
     "name": "stdout",
     "output_type": "stream",
     "text": [
      "Count: 1\n",
      "Count: 2\n",
      "Count: 3\n",
      "Count: 4\n",
      "Count: 5\n"
     ]
    }
   ],
   "source": [
    "count = 1\n",
    "while count <= 5:\n",
    "    print(\"Count:\", count)\n",
    "    count += 1"
   ]
  },
  {
   "cell_type": "code",
   "execution_count": 16,
   "id": "8716937c-cc76-4c7d-80c2-79d194b4b57f",
   "metadata": {},
   "outputs": [
    {
     "name": "stdout",
     "output_type": "stream",
     "text": [
      "Number:  1\n",
      "Number:  2\n",
      "Number:  3\n",
      "Number:  4\n",
      "Number:  5\n"
     ]
    }
   ],
   "source": [
    "for num in range(1, 6):\n",
    "    print(\"Number: \", num)"
   ]
  },
  {
   "cell_type": "code",
   "execution_count": 17,
   "id": "1b3db501-f94e-40ab-8105-cc9e3606a78c",
   "metadata": {},
   "outputs": [
    {
     "name": "stdout",
     "output_type": "stream",
     "text": [
      "Number: 1\n",
      "Number: 2\n",
      "Number: 3\n",
      "Number: 4\n",
      "Breaking at number: 5\n"
     ]
    }
   ],
   "source": [
    "for num in range(1, 11):\n",
    "    if num == 5:\n",
    "        print(\"Breaking at number:\", num)\n",
    "        break\n",
    "    print(\"Number:\", num)"
   ]
  },
  {
   "cell_type": "code",
   "execution_count": 18,
   "id": "30fb9f9d-6095-4179-8854-8c11763fa09c",
   "metadata": {},
   "outputs": [
    {
     "name": "stdout",
     "output_type": "stream",
     "text": [
      "Count is:  0\n",
      "Count is:  1\n",
      "Count is:  2\n",
      "Breaking at count= 3\n"
     ]
    }
   ],
   "source": [
    "count = 0\n",
    "while count < 5:\n",
    "    if count == 3:\n",
    "        print(\"Breaking at count=\", count)\n",
    "        break\n",
    "    print(\"Count is: \", count)\n",
    "    count += 1"
   ]
  },
  {
   "cell_type": "code",
   "execution_count": 20,
   "id": "2d857e1a-d912-44b0-b20b-2d55e453759e",
   "metadata": {},
   "outputs": [
    {
     "name": "stdin",
     "output_type": "stream",
     "text": [
      "Enter the first number 4\n",
      "Enter the sec number 8\n"
     ]
    },
    {
     "name": "stdout",
     "output_type": "stream",
     "text": [
      "18\n"
     ]
    }
   ],
   "source": [
    "num1 = int(input(\"Enter the first number\"))\n",
    "num2 = int(input(\"Enter the sec number\"))\n",
    "sum1 = 0\n",
    "for num in range(num1, num2 + 1):\n",
    "    if num % 2 == 0:\n",
    "        sum1 += num\n",
    "\n",
    "print(sum1)\n"
   ]
  },
  {
   "cell_type": "code",
   "execution_count": 31,
   "id": "bdcdbf5c-ad09-48c5-a62f-2d251ce65cc8",
   "metadata": {},
   "outputs": [
    {
     "name": "stdin",
     "output_type": "stream",
     "text": [
      "Enter the number:  6\n"
     ]
    },
    {
     "name": "stdout",
     "output_type": "stream",
     "text": [
      "\n",
      "1 \n",
      "1 2 \n",
      "1 2 3 \n",
      "1 2 3 4 \n"
     ]
    }
   ],
   "source": [
    "num = int(input(\"Enter the number: \"))\n",
    "for i in range(1, num):\n",
    "    for j in range(1, i):\n",
    "        print(j, end=\" \" )\n",
    "    print()"
   ]
  },
  {
   "cell_type": "code",
   "execution_count": 32,
   "id": "664ba948-068b-46e4-85c2-808e05b08e7f",
   "metadata": {},
   "outputs": [
    {
     "name": "stdout",
     "output_type": "stream",
     "text": [
      "Hello world\n"
     ]
    }
   ],
   "source": [
    "def hello():\n",
    "    print(\"Hello world\")\n",
    "hello()\n"
   ]
  },
  {
   "cell_type": "code",
   "execution_count": 33,
   "id": "ad3dc981-919f-4ce2-b71e-ddd3d6e60fdb",
   "metadata": {},
   "outputs": [
    {
     "name": "stdout",
     "output_type": "stream",
     "text": [
      "Good Night Nisarga\n"
     ]
    }
   ],
   "source": [
    "def greet(name):\n",
    "    print(\"Good Night\", name)\n",
    "greet('Nisarga')\n"
   ]
  },
  {
   "cell_type": "code",
   "execution_count": 34,
   "id": "c999b3a9-a911-47d2-86e4-d245d8105883",
   "metadata": {},
   "outputs": [
    {
     "name": "stdout",
     "output_type": "stream",
     "text": [
      "24\n"
     ]
    }
   ],
   "source": [
    "def multiply_numbers(a, b):\n",
    "    return a * b\n",
    "\n",
    "result = multiply_numbers(4, 6)\n",
    "print(result)"
   ]
  },
  {
   "cell_type": "code",
   "execution_count": 36,
   "id": "9f7ce5ac-aa5b-4358-9cac-f3d3a1293971",
   "metadata": {},
   "outputs": [
    {
     "name": "stdout",
     "output_type": "stream",
     "text": [
      "Hello, Alice!\n",
      "Hello, Guest!\n"
     ]
    }
   ],
   "source": [
    "#Default \n",
    "def greet(name = \"Guest\"):\n",
    "    print(f\"Hello, {name}!\")\n",
    "greet(\"Alice\")\n",
    "greet()"
   ]
  },
  {
   "cell_type": "code",
   "execution_count": 37,
   "id": "af784ad8-36bf-456a-a7e9-ae09594ad70e",
   "metadata": {},
   "outputs": [
    {
     "name": "stdout",
     "output_type": "stream",
     "text": [
      "Bob is 90 years old and lives in India\n"
     ]
    }
   ],
   "source": [
    "def describe_person(name, age, city):\n",
    "    print(f\"{name} is {age} years old and lives in {city}\")\n",
    "describe_person(age = 90, city = 'India', name = 'Bob')"
   ]
  },
  {
   "cell_type": "code",
   "execution_count": 7,
   "id": "571839b5-5b57-49af-a7f7-3fd1a6d37213",
   "metadata": {},
   "outputs": [],
   "source": [
    "#Recursion\n",
    "def fact(n):\n",
    "    if n == 1:\n",
    "        return 1\n",
    "    else:\n",
    "        return n * fact(n - 1)\n",
    "    result = fact(8)\n",
    "    print(f\"The factorial of {n}  is: \", result)"
   ]
  },
  {
   "cell_type": "code",
   "execution_count": 5,
   "id": "6f64e98c-14b7-454d-ba9e-dd1611ca4db5",
   "metadata": {},
   "outputs": [
    {
     "name": "stdin",
     "output_type": "stream",
     "text": [
      "Enter username:  gjse\n",
      "Enter paswords:  mzjgf\n"
     ]
    },
    {
     "name": "stdout",
     "output_type": "stream",
     "text": [
      "Error wrong\n"
     ]
    }
   ],
   "source": [
    "def valid(username, password):\n",
    "    if username == 'admin@gmail.com' and password == 'admin123':\n",
    "        print(\"It is correct successfull login\")\n",
    "    else:\n",
    "        print(\"Error wrong\")\n",
    "\n",
    "username = input(\"Enter username: \")\n",
    "password = input(\"Enter paswords: \")\n",
    "valid(username, password)\n",
    "# valid('admin@gmail.com', 'admin123')"
   ]
  },
  {
   "cell_type": "code",
   "execution_count": 11,
   "id": "0e46fe54-bfc2-445e-accf-fc711a5009b3",
   "metadata": {},
   "outputs": [
    {
     "name": "stdout",
     "output_type": "stream",
     "text": [
      "The factorial of 9  is:  362880\n"
     ]
    }
   ],
   "source": [
    "#Recursion\n",
    "def fact(n):\n",
    "    if n == 1:\n",
    "        return 1\n",
    "    else:\n",
    "        return n * fact(n - 1)\n",
    "n = 9\n",
    "result = fact(n)\n",
    "print(f\"The factorial of {n}  is: \", result)"
   ]
  },
  {
   "cell_type": "code",
   "execution_count": 35,
   "id": "354c23df-7f85-4737-95e5-588676aa9122",
   "metadata": {},
   "outputs": [
    {
     "name": "stdout",
     "output_type": "stream",
     "text": [
      "[1, 2, 3, 4, 5]\n",
      "[1, 2, 3, 4, 5, 6]\n",
      "[1, 2, 50, 3, 4, 5, 6]\n",
      "6\n",
      "[1, 2, 50, 3, 4, 5]\n",
      "6\n",
      "65\n",
      "1\n",
      "50\n",
      "[1, 50, 3, 4, 5]\n",
      "False\n",
      "[1, 50, 3, 4, 5]\n",
      "[1, 50, 3, 4, 5]\n"
     ]
    }
   ],
   "source": [
    "my_list = [1, 2, 3, 4, 5]\n",
    "print(my_list)\n",
    "my_list.append(6)\n",
    "\n",
    "print(my_list)\n",
    "my_list.insert(2, 50)\n",
    "\n",
    "print(my_list)\n",
    "print(my_list.pop())\n",
    "print(my_list)\n",
    "\n",
    "print(len(my_list))\n",
    "print(sum(my_list))\n",
    "print(min(my_list))\n",
    "print(max(my_list))\n",
    "\n",
    "my_list.remove(2)\n",
    "print(my_list)\n",
    "\n",
    "#check membership\n",
    "print(20 in my_list)\n",
    "\n",
    "print(my_list)\n",
    "\n",
    "#del my_list\n",
    "print(my_list)"
   ]
  },
  {
   "cell_type": "code",
   "execution_count": 13,
   "id": "dfb89be0-1dbd-47a3-905c-4034d689e7f6",
   "metadata": {},
   "outputs": [
    {
     "name": "stdout",
     "output_type": "stream",
     "text": [
      "3\n"
     ]
    }
   ],
   "source": [
    "print(my_list[2])"
   ]
  },
  {
   "cell_type": "code",
   "execution_count": 14,
   "id": "550cb6c6-a545-4e93-86d5-295e668591e5",
   "metadata": {},
   "outputs": [
    {
     "name": "stdout",
     "output_type": "stream",
     "text": [
      "(10, 20, 30, 40, 50)\n"
     ]
    }
   ],
   "source": [
    "my_tup = (10, 20, 30, 40, 50)\n",
    "print(my_tup)"
   ]
  },
  {
   "cell_type": "code",
   "execution_count": 15,
   "id": "85447aea-1fd7-4522-b5fa-9c31ffa7e1cb",
   "metadata": {},
   "outputs": [
    {
     "name": "stdout",
     "output_type": "stream",
     "text": [
      "50\n"
     ]
    }
   ],
   "source": [
    "print(my_tup[4])"
   ]
  },
  {
   "cell_type": "code",
   "execution_count": 29,
   "id": "53aba192-80ae-4b64-84fa-3a3b3b062fae",
   "metadata": {},
   "outputs": [
    {
     "name": "stdout",
     "output_type": "stream",
     "text": [
      "None\n"
     ]
    }
   ],
   "source": [
    "print(my_list.extend([6, 7,7 ,8]))"
   ]
  },
  {
   "cell_type": "code",
   "execution_count": 30,
   "id": "e85fb136-6954-41da-aed3-f7b5d9b254c5",
   "metadata": {},
   "outputs": [
    {
     "name": "stdout",
     "output_type": "stream",
     "text": [
      "[1, 50, 3, 4, 5, 6, 7, 7, 8]\n"
     ]
    }
   ],
   "source": [
    "print(my_list)"
   ]
  },
  {
   "cell_type": "code",
   "execution_count": 39,
   "id": "2a83bbb8-f5b5-4272-915b-31143d10e16d",
   "metadata": {},
   "outputs": [
    {
     "name": "stdout",
     "output_type": "stream",
     "text": [
      "3\n",
      "4\n",
      "5\n"
     ]
    }
   ],
   "source": [
    "numbers = [1, 2, 3, 4, 5, 6, 7]\n",
    "for num in numbers[2 : 5]:\n",
    "    print(num)\n",
    "\n",
    "# for i in range(2, 5):\n",
    "#     print(i)"
   ]
  },
  {
   "cell_type": "code",
   "execution_count": 43,
   "id": "fc7e5a1f-f4a7-4ace-be44-3a57bafa3b00",
   "metadata": {},
   "outputs": [
    {
     "name": "stdout",
     "output_type": "stream",
     "text": [
      "[23, 32, 56, 78, 89]\n",
      "[89, 78, 56, 32, 23]\n",
      "[23, 32, 56, 78, 89]\n"
     ]
    }
   ],
   "source": [
    "my_data = [56, 78, 23, 89, 32]\n",
    "my_data.sort()\n",
    "print(my_data)\n",
    "my_data.sort(reverse = True)\n",
    "print(my_data)\n",
    "my_data.reverse()\n",
    "print(my_data)"
   ]
  },
  {
   "cell_type": "code",
   "execution_count": 44,
   "id": "b8854ef3-4a2a-4d60-a50a-ceb806ab7c84",
   "metadata": {},
   "outputs": [
    {
     "name": "stdout",
     "output_type": "stream",
     "text": [
      "[23, 32, 56, 78, 89]\n",
      "[1, 4, 9, 16, 25]\n"
     ]
    }
   ],
   "source": [
    "copy_numbers = my_data.copy()\n",
    "print(copy_numbers)\n",
    "\n",
    "squares = [ x **2 for x in range(1, 6)]\n",
    "print(squares)"
   ]
  },
  {
   "cell_type": "code",
   "execution_count": 48,
   "id": "4072ee1a-cbbd-4d1c-95c6-04e4ac059409",
   "metadata": {},
   "outputs": [
    {
     "name": "stdout",
     "output_type": "stream",
     "text": [
      "('Nisarga', 'Manushree', 'Vishal', 'Shasidhar', 'Chandan', 'Lokesh', 'rohit')\n"
     ]
    }
   ],
   "source": [
    "names = (\"Nisarga\", \"Manushree\", \"Vishal\", \"Shasidhar\", \"Chandan\", \"Lokesh\", \"rohit\")\n",
    "print(names)"
   ]
  },
  {
   "cell_type": "code",
   "execution_count": 47,
   "id": "668ab388-bf8b-4a34-a926-0b1a6571d243",
   "metadata": {},
   "outputs": [
    {
     "name": "stdout",
     "output_type": "stream",
     "text": [
      "[10, 20, 30, 40]\n"
     ]
    }
   ],
   "source": [
    "numbers_tuple = (10, 20, 30)\n",
    "numbers_list = list(numbers_tuple)\n",
    "\n",
    "numbers_list.append(40)\n",
    "\n",
    "numbers_tuple = tuple(numbers_list)\n",
    "print(numbers_list)"
   ]
  },
  {
   "cell_type": "code",
   "execution_count": 50,
   "id": "eecc239c-7c1b-4f4d-b499-16b45ccad035",
   "metadata": {},
   "outputs": [
    {
     "name": "stdout",
     "output_type": "stream",
     "text": [
      "Access value:  Manushree\n",
      "Access value:  Shasidhar\n",
      "Access value:  Vishal\n"
     ]
    }
   ],
   "source": [
    "names = (\"Nisarga\", \"Manushree\", \"Vishal\", \"Shasidhar\", \"Chandan\", \"Lokesh\", \"rohit\")\n",
    "\n",
    "print('Access value: ', names[1])\n",
    "print('Access value: ', names[3])\n",
    "print('Access value: ', names[-5])"
   ]
  },
  {
   "cell_type": "code",
   "execution_count": 51,
   "id": "bc077134-7856-4056-afeb-23fb96bf45d3",
   "metadata": {},
   "outputs": [
    {
     "name": "stdout",
     "output_type": "stream",
     "text": [
      "(1, 2, 3, 4, 5, 6)\n"
     ]
    }
   ],
   "source": [
    "tuple1 = (1, 2, 3)\n",
    "tuple2 = (4, 5, 6)\n",
    "\n",
    "concat = tuple1 + tuple2\n",
    "\n",
    "print(concat)"
   ]
  },
  {
   "cell_type": "code",
   "execution_count": 57,
   "id": "dee2704f-1d00-48fa-825e-8b9a1de0052d",
   "metadata": {},
   "outputs": [
    {
     "name": "stdout",
     "output_type": "stream",
     "text": [
      "('Danger!!!', 'Danger!!!', 'Danger!!!', 'Danger!!!')\n"
     ]
    }
   ],
   "source": [
    "new_tuple = ('Danger!!!',) * 4\n",
    "print(new_tuple)"
   ]
  },
  {
   "cell_type": "code",
   "execution_count": 60,
   "id": "22814510-c6cc-4ed0-a4c1-ed224c7244e0",
   "metadata": {},
   "outputs": [
    {
     "name": "stdout",
     "output_type": "stream",
     "text": [
      "3\n",
      "2\n"
     ]
    }
   ],
   "source": [
    "lst = [1, 2, 3, 3, 3, 4, 5, 6, 7, 8, 9]\n",
    "print(lst.count(3))\n",
    "\n",
    "print(lst.index(3))"
   ]
  },
  {
   "cell_type": "code",
   "execution_count": 72,
   "id": "7b1c9bb0-6ff7-4a07-a782-89a29d13c134",
   "metadata": {},
   "outputs": [
    {
     "name": "stdout",
     "output_type": "stream",
     "text": [
      "{'eid': 1001, 'name': 'John doe', 'dept': 'CSE(AIML)', 'salary': 100000}\n",
      "Employee name: 1001\n"
     ]
    }
   ],
   "source": [
    "#Dictionary\n",
    "\n",
    "employee = {\n",
    "    \"eid\" : 1001,\n",
    "    \"name\" : \"John doe\",\n",
    "    \"dept\" : \"CSE(AIML)\",\n",
    "    \"salary\" : 1000000\n",
    "}\n",
    "\n",
    "print(employee)\n",
    "print(\"Employee name:\", employee['eid'])"
   ]
  },
  {
   "cell_type": "code",
   "execution_count": 66,
   "id": "d5029079-7126-40d4-bb7e-2d403ab77585",
   "metadata": {},
   "outputs": [
    {
     "ename": "TypeError",
     "evalue": "'dict' object is not callable",
     "output_type": "error",
     "traceback": [
      "\u001b[1;31m---------------------------------------------------------------------------\u001b[0m",
      "\u001b[1;31mTypeError\u001b[0m                                 Traceback (most recent call last)",
      "Cell \u001b[1;32mIn[66], line 1\u001b[0m\n\u001b[1;32m----> 1\u001b[0m \u001b[38;5;28mprint\u001b[39m(\u001b[38;5;124m\"\u001b[39m\u001b[38;5;124mManager:\u001b[39m\u001b[38;5;124m\"\u001b[39m , \u001b[43memployee\u001b[49m\u001b[43m(\u001b[49m\u001b[38;5;124;43m'\u001b[39;49m\u001b[38;5;124;43mmanager\u001b[39;49m\u001b[38;5;124;43m'\u001b[39;49m\u001b[43m)\u001b[49m) \u001b[38;5;66;03m#If key not found throws arror\u001b[39;00m\n",
      "\u001b[1;31mTypeError\u001b[0m: 'dict' object is not callable"
     ]
    }
   ],
   "source": [
    "print(\"Manager:\" , employee('manager')) #If key not found throws arror"
   ]
  },
  {
   "cell_type": "code",
   "execution_count": 67,
   "id": "cc617107-2d87-49c6-ac4b-191b10d760a5",
   "metadata": {},
   "outputs": [
    {
     "name": "stdout",
     "output_type": "stream",
     "text": [
      "Manager: None\n"
     ]
    }
   ],
   "source": [
    "print(\"Manager:\" , employee.get('manager'))  #If  key not found will not give error - gives none"
   ]
  },
  {
   "cell_type": "code",
   "execution_count": 71,
   "id": "4a4280dd-6522-49f3-80d4-bbde4128aa83",
   "metadata": {},
   "outputs": [
    {
     "name": "stdout",
     "output_type": "stream",
     "text": [
      "Manager: None\n",
      "Manager: Nisarga and Manushree\n"
     ]
    }
   ],
   "source": [
    "print(\"Manager:\" , employee.get('manager')) \n",
    "print(\"Manager:\" , employee.get('manager', \"Nisarga and Manushree\"))"
   ]
  },
  {
   "cell_type": "code",
   "execution_count": 74,
   "id": "bc2e5346-f08a-4c30-8842-7d594b4f871d",
   "metadata": {},
   "outputs": [
    {
     "data": {
      "text/plain": [
       "('dept', 'CSE(AIML)')"
      ]
     },
     "execution_count": 74,
     "metadata": {},
     "output_type": "execute_result"
    }
   ],
   "source": [
    "employee.popitem() #Remove the last item and return"
   ]
  },
  {
   "cell_type": "code",
   "execution_count": 77,
   "id": "609c8f27-ce0c-4efb-97c0-7061f9e25ed8",
   "metadata": {},
   "outputs": [
    {
     "data": {
      "text/plain": [
       "1001"
      ]
     },
     "execution_count": 77,
     "metadata": {},
     "output_type": "execute_result"
    }
   ],
   "source": [
    "employee.pop('eid')"
   ]
  },
  {
   "cell_type": "code",
   "execution_count": 80,
   "id": "39fbc46a-f163-4591-b14a-90897752b14b",
   "metadata": {},
   "outputs": [
    {
     "name": "stdout",
     "output_type": "stream",
     "text": [
      "{'eid': 1006, 'name': 'shasidhar', 'dept': 'IT', 'salary': 100000067}\n"
     ]
    }
   ],
   "source": [
    "#Dictionary\n",
    "\n",
    "employee2 = {\n",
    "    \"eid\" : 1006,\n",
    "    \"name\" : \"shasidhar\",\n",
    "    \"dept\" : \"IT\",\n",
    "    \"salary\" : 100000067\n",
    "}\n",
    "\n",
    "print(employee2)\n",
    "# print(\"Employee name:\", employee['eid'])"
   ]
  },
  {
   "cell_type": "code",
   "execution_count": 87,
   "id": "12eb49d1-049d-4e2c-a9ed-43ce09cfd99d",
   "metadata": {},
   "outputs": [
    {
     "name": "stdout",
     "output_type": "stream",
     "text": [
      "{'id': '101', 'name': 'alex', 'email': 'alex@gmail.com', 'address': 'us'}\n"
     ]
    }
   ],
   "source": [
    "Student = {\n",
    "    \"id\" : \"101\", \n",
    "    \"name\" : \"alex\",\n",
    "    \"email\" : \"alex@gmail.com\",\n",
    "    \"address\" : \"us\"\n",
    "}\n",
    "print(student)"
   ]
  },
  {
   "cell_type": "code",
   "execution_count": 83,
   "id": "8cab7019-ad22-4abe-a5b5-cc0207771c8e",
   "metadata": {},
   "outputs": [
    {
     "name": "stdout",
     "output_type": "stream",
     "text": [
      "dict_items([('id', '101'), ('name', 'alex'), ('email', 'alex@gmail.com'), ('address', 'us')])\n"
     ]
    }
   ],
   "source": [
    "print(student.items())"
   ]
  },
  {
   "cell_type": "code",
   "execution_count": 88,
   "id": "4943b27e-efd1-44c3-a062-b21bb0c7ac27",
   "metadata": {},
   "outputs": [
    {
     "name": "stdout",
     "output_type": "stream",
     "text": [
      "id :  101\n",
      "name :  alex\n",
      "email :  alex@gmail.com\n",
      "address :  us\n"
     ]
    }
   ],
   "source": [
    "for key, value in student.items():\n",
    "    print(key, \": \", value)"
   ]
  },
  {
   "cell_type": "code",
   "execution_count": 89,
   "id": "52daeee9-a83b-480f-972b-6a38f39ec7b5",
   "metadata": {},
   "outputs": [
    {
     "name": "stdout",
     "output_type": "stream",
     "text": [
      "address is present in student object\n"
     ]
    }
   ],
   "source": [
    "if \"address\" in student:\n",
    "    print(\"address is present in student object\")"
   ]
  },
  {
   "cell_type": "code",
   "execution_count": 91,
   "id": "3ff7924b-bbcb-4af8-b1d7-4d92b1bb820c",
   "metadata": {},
   "outputs": [
    {
     "name": "stdout",
     "output_type": "stream",
     "text": [
      "{403, 404, 500, 200, 302}\n"
     ]
    }
   ],
   "source": [
    "#Set\n",
    "myset = {404, 200, 500, 302, 403, 302}\n",
    "print(myset)"
   ]
  },
  {
   "cell_type": "code",
   "execution_count": 95,
   "id": "cce10b47-c3d2-419d-b65a-558edbd6a260",
   "metadata": {},
   "outputs": [
    {
     "name": "stdout",
     "output_type": "stream",
     "text": [
      "403\n",
      "404\n",
      "500\n",
      "200\n",
      "302\n"
     ]
    }
   ],
   "source": [
    "for num in myset:\n",
    "    print(num)"
   ]
  },
  {
   "cell_type": "code",
   "execution_count": 101,
   "id": "10743941-0b3f-4704-8648-7fe7f9315c64",
   "metadata": {},
   "outputs": [
    {
     "name": "stdout",
     "output_type": "stream",
     "text": [
      "{402, 403, 404, 500, 501, 200, 302}\n",
      "{402, 403, 404, 500, 501, 200, 302, 303}\n",
      "{402, 403, 404, 500, 501, 200, 302}\n"
     ]
    }
   ],
   "source": [
    "#Adding an element\n",
    "myset.add(501)\n",
    "print(myset)\n",
    "myset.update([303,402]) #pass list to add multiple elements\n",
    "print(myset)\n",
    "\n",
    "#Removal\n",
    "myset.remove(303)\n",
    "print(myset)"
   ]
  },
  {
   "cell_type": "code",
   "execution_count": 104,
   "id": "a2fef0c8-9a32-476f-a72d-f43aadf7ca46",
   "metadata": {},
   "outputs": [
    {
     "name": "stdout",
     "output_type": "stream",
     "text": [
      "{402, 403, 404, 500, 501, 200, 302}\n",
      "{403, 404, 500, 501, 200, 302}\n"
     ]
    }
   ],
   "source": [
    "myset.discard(303) #if not found then no error\n",
    "print(myset)\n",
    "myset.pop()\n",
    "print(myset)"
   ]
  },
  {
   "cell_type": "code",
   "execution_count": 106,
   "id": "71a65902-a9e8-41ba-a4af-855e787d6dd7",
   "metadata": {},
   "outputs": [
    {
     "name": "stdout",
     "output_type": "stream",
     "text": [
      "None\n",
      "set()\n"
     ]
    }
   ],
   "source": [
    "print(myset.clear())\n",
    "print(myset)"
   ]
  },
  {
   "cell_type": "code",
   "execution_count": 108,
   "id": "09ec8f83-6442-4b02-be54-a95418913253",
   "metadata": {},
   "outputs": [
    {
     "name": "stdout",
     "output_type": "stream",
     "text": [
      "Set is empty\n"
     ]
    }
   ],
   "source": [
    "if len(myset) > 0:\n",
    "    myset.pop()\n",
    "else:\n",
    "    print(\"Set is empty\")"
   ]
  },
  {
   "cell_type": "code",
   "execution_count": 109,
   "id": "afc97084-04b8-4c02-b817-46f7a6aeb8a8",
   "metadata": {},
   "outputs": [
    {
     "name": "stdout",
     "output_type": "stream",
     "text": [
      "{1, 2, 3, 4, 5, 6, 7, 8}\n",
      "{1, 2, 3, 4, 5, 6, 7, 8}\n",
      "{4, 5}\n",
      "{4, 5}\n",
      "{1, 2, 3}\n",
      "{1, 2, 3}\n",
      "{1, 2, 3, 6, 7, 8}\n",
      "{1, 2, 3, 6, 7, 8}\n"
     ]
    }
   ],
   "source": [
    "A = {1, 2, 3, 4, 5}\n",
    "B = {4, 5, 6, 7, 8}\n",
    "\n",
    "#Union - combines elements from both sets\n",
    "print(A | B)\n",
    "print(A.union(B))\n",
    "\n",
    "#Intersection - common elements\n",
    "print(A & B)\n",
    "print(A.intersection(B))\n",
    "\n",
    "#Difference - elements in A but not in B\n",
    "print(A - B)\n",
    "print(A.difference(B))\n",
    "\n",
    "#Symmmetric Difference\n",
    "#Elements in either set but not in both\n",
    "print(A ^ B)\n",
    "print(A.symmetric_difference(B))"
   ]
  },
  {
   "cell_type": "code",
   "execution_count": 143,
   "id": "7e0e7c4a-b966-41c8-a204-0b239c8df14b",
   "metadata": {},
   "outputs": [
    {
     "name": "stdout",
     "output_type": "stream",
     "text": [
      "{'employee1': {'eid': 1001, 'name': 'Nisarga', 'dept': 'IT', 'salary': 100000067}, 'employee2': {'eid': 1002, 'name': 'shasidhar', 'dept': 'IT', 'salary': 100000067}, 'employee3': {'eid': 1003, 'name': 'manushree', 'dept': 'IT', 'salary': 100000067}}\n",
      "{'employee1': {'eid': 1001, 'name': 'Nisarga', 'dept': 'IT', 'salary': 100000067}, 'employee2': {'eid': 1002, 'name': 'shasidhar', 'dept': 'IT', 'salary': 100000067}, 'employee3': {'eid': 1003, 'name': 'manushree', 'dept': 'IT', 'salary': 100000067}, 'employee4': {'eid': 1004, 'name': 'vishal', 'dept': 'IT', 'salary': 100000056634}}\n",
      "Updates employee salary: \n",
      " {'employee1': {'eid': 1001, 'name': 'Nisarga', 'dept': 'IT', 'salary': 100000067}, 'employee2': {'eid': 1002, 'name': 'shasidhar', 'dept': 'IT', 'salary': 100000067}, 'employee3': {'eid': 1004, 'name': 'vishal', 'dept': 'IT', 'salary': 54345665276}, 'employee4': {'eid': 1004, 'name': 'vishal', 'dept': 'IT', 'salary': 100000056634}}\n",
      "Updates employee salary: \n",
      " {'employee1': {'eid': 1001, 'name': 'Nisarga', 'dept': 'IT', 'salary': 100000067}, 'employee2': {'eid': 1002, 'name': 'shasidhar', 'dept': 'IT', 'salary': 100000067}, 'employee3': {'eid': 1004, 'name': 'vishal', 'dept': 'IT', 'salary': 54345665276}, 'employee4': {'eid': 1004, 'name': 'vishal', 'dept': 'IT', 'salary': 100000056634}}\n"
     ]
    },
    {
     "data": {
      "text/plain": [
       "{'eid': 1001, 'name': 'Nisarga', 'dept': 'IT', 'salary': 100000067}"
      ]
     },
     "execution_count": 143,
     "metadata": {},
     "output_type": "execute_result"
    }
   ],
   "source": [
    "employees = { \n",
    "    \"employee1\" : { \"eid\" : 1001, \"name\" : \"Nisarga\", \"dept\" : \"IT\",\"salary\" : 100000067 },\n",
    "    \"employee2\" : { \"eid\" : 1002, \"name\" : \"shasidhar\", \"dept\" : \"IT\", \"salary\" : 100000067 }, \n",
    "    \"employee3\" : { \"eid\" : 1003, \"name\" : \"manushree\", \"dept\" : \"IT\", \"salary\" : 100000067 }\n",
    "}\n",
    "\n",
    "print(employees)\n",
    "\n",
    "\n",
    "#Add a new employee\n",
    "\n",
    "employees[\"employee4\"] = {\"eid\" : 1004, \"name\" : \"vishal\", \"dept\" : \"IT\",\"salary\" : 100000056634 }\n",
    "\n",
    "print(employees)\n",
    "\n",
    "employees[\"employee3\"] = {\"eid\" : 1004, \"name\" : \"vishal\", \"dept\" : \"IT\",\"salary\" : 54345665276 }\n",
    "print(\"Updates employee salary: \\n\", employees)\n",
    "\n",
    "employees[\"employee3\"] = {\"eid\" : 1004, \"name\" : \"vishal\", \"dept\" : \"IT\",\"salary\" : 54345665276 }\n",
    "print(\"Updates employee salary: \\n\", employees)\n",
    "employees.pop(\"employee1\")"
   ]
  },
  {
   "cell_type": "code",
   "execution_count": 150,
   "id": "a6e1fe9a-72f5-47c0-a5ce-ae497616d5b0",
   "metadata": {},
   "outputs": [
    {
     "name": "stdout",
     "output_type": "stream",
     "text": [
      "---------------------------------------------\n",
      "eid: 1001\n",
      "name: Nisarga\n",
      "dept: IT\n",
      "salary: 100000067\n",
      "---------------------------------------------\n",
      "eid: 1002\n",
      "name: Shasidhar\n",
      "dept: IT\n",
      "salary: 100000067\n",
      "---------------------------------------------\n",
      "eid: 1003\n",
      "name: Manushree\n",
      "dept: IT\n",
      "salary: 100000067\n",
      "\n",
      "Adding a new employee:\n",
      "---------------------------------------------\n",
      "eid: 1001\n",
      "name: Nisarga\n",
      "dept: IT\n",
      "salary: 100000067\n",
      "---------------------------------------------\n",
      "eid: 1002\n",
      "name: Shasidhar\n",
      "dept: IT\n",
      "salary: 100000067\n",
      "---------------------------------------------\n",
      "eid: 1003\n",
      "name: Manushree\n",
      "dept: IT\n",
      "salary: 100000067\n",
      "---------------------------------------------\n",
      "eid: 1004\n",
      "name: Ravi\n",
      "dept: HR\n",
      "salary: 90000000\n",
      "\n",
      "Updating salary:\n",
      "Salary updated for employee ID 1002\n",
      "---------------------------------------------\n",
      "eid: 1001\n",
      "name: Nisarga\n",
      "dept: IT\n",
      "salary: 100000067\n",
      "---------------------------------------------\n",
      "eid: 1002\n",
      "name: Shasidhar\n",
      "dept: IT\n",
      "salary: 120000000\n",
      "---------------------------------------------\n",
      "eid: 1003\n",
      "name: Manushree\n",
      "dept: IT\n",
      "salary: 100000067\n",
      "---------------------------------------------\n",
      "eid: 1004\n",
      "name: Ravi\n",
      "dept: HR\n",
      "salary: 90000000\n",
      "\n",
      "Removing an employee:\n",
      "Employee with ID 1003 removed\n",
      "---------------------------------------------\n",
      "eid: 1001\n",
      "name: Nisarga\n",
      "dept: IT\n",
      "salary: 100000067\n",
      "---------------------------------------------\n",
      "eid: 1002\n",
      "name: Shasidhar\n",
      "dept: IT\n",
      "salary: 120000000\n",
      "---------------------------------------------\n",
      "eid: 1004\n",
      "name: Ravi\n",
      "dept: HR\n",
      "salary: 90000000\n"
     ]
    }
   ],
   "source": [
    "# employees = { \n",
    "#     \"employee1\" : { \"eid\" : 1001, \"name\" : \"Nisarga\", \"dept\" : \"IT\",\"salary\" : 100000067 },\n",
    "#     \"employee2\" : { \"eid\" : 1002, \"name\" : \"shasidhar\", \"dept\" : \"IT\", \"salary\" : 100000067 }, \n",
    "#     \"employee3\" : { \"eid\" : 1003, \"name\" : \"manushree\", \"dept\" : \"IT\", \"salary\" : 100000067 }\n",
    "# }\n",
    "\n",
    "# def add_employee(eid, name, department, salary):\n",
    "#     n = len(employees)\n",
    "#     employees[f'employee[{n + 1} '] = { \"eid\" : id, \"name\" : name, \"department\" : department, \"salary\" : salary}\n",
    "\n",
    "\n",
    "# def update_salary(eid, name, department, salary):\n",
    "#     pass\n",
    "\n",
    "# def remove_employee(eid, name, department, salary):\n",
    "#     pass\n",
    "# def print_employee(employees):\n",
    "#     for emp in employees:\n",
    "#         print(\"---------------------------------------------\")\n",
    "#         for key in employees[employee]:\n",
    "#             print(key, \" \", employees[employee][key])\n",
    "# print_employee(employees)\n",
    "\n",
    "\n",
    "\n",
    "employees = { \n",
    "    \"employee1\" : { \"eid\" : 1001, \"name\" : \"Nisarga\", \"dept\" : \"IT\", \"salary\" : 100000067 },\n",
    "    \"employee2\" : { \"eid\" : 1002, \"name\" : \"Shasidhar\", \"dept\" : \"IT\", \"salary\" : 100000067 }, \n",
    "    \"employee3\" : { \"eid\" : 1003, \"name\" : \"Manushree\", \"dept\" : \"IT\", \"salary\" : 100000067 }\n",
    "}\n",
    "\n",
    "def add_employee(eid, name, department, salary):\n",
    "    n = len(employees)\n",
    "    employees[f'employee{n + 1}'] = { \"eid\" : eid, \"name\" : name, \"dept\" : department, \"salary\" : salary }\n",
    "\n",
    "def update_salary(eid, new_salary):\n",
    "    for emp in employees.values():\n",
    "        if emp['eid'] == eid:\n",
    "            emp['salary'] = new_salary\n",
    "            return f\"Salary updated for employee ID {eid}\"\n",
    "    return f\"Employee with ID {eid} not found\"\n",
    "\n",
    "def remove_employee(eid):\n",
    "    for key, emp in list(employees.items()):\n",
    "        if emp['eid'] == eid:\n",
    "            del employees[key]\n",
    "            return f\"Employee with ID {eid} removed\";\n",
    "    return f\"Employee with ID {eid} not found\"\n",
    "\n",
    "def print_employee(employees):\n",
    "    for emp in employees:\n",
    "        print(\"---------------------------------------------\")\n",
    "        for key in employees[emp]:\n",
    "            print(f\"{key}: {employees[emp][key]}\")\n",
    "\n",
    "# Testing the functions\n",
    "print_employee(employees)\n",
    "print(\"\\nAdding a new employee:\")\n",
    "add_employee(1004, \"Ravi\", \"HR\", 90000000)\n",
    "print_employee(employees)\n",
    "print(\"\\nUpdating salary:\")\n",
    "print(update_salary(1002, 120000000))\n",
    "print_employee(employees)\n",
    "print(\"\\nRemoving an employee:\")\n",
    "print(remove_employee(1003))\n",
    "print_employee(employees)"
   ]
  },
  {
   "cell_type": "code",
   "execution_count": 1,
   "id": "7b4f91e9-891f-44b7-b0fc-794f2987976b",
   "metadata": {},
   "outputs": [
    {
     "name": "stdout",
     "output_type": "stream",
     "text": [
      "Collecting pandas\n",
      "  Downloading pandas-2.2.3-cp313-cp313-win_amd64.whl.metadata (19 kB)\n",
      "Collecting numpy>=1.26.0 (from pandas)\n",
      "  Downloading numpy-2.2.3-cp313-cp313-win_amd64.whl.metadata (60 kB)\n",
      "Requirement already satisfied: python-dateutil>=2.8.2 in c:\\users\\k.nisarga\\appdata\\local\\programs\\python\\python313\\lib\\site-packages (from pandas) (2.9.0.post0)\n",
      "Collecting pytz>=2020.1 (from pandas)\n",
      "  Downloading pytz-2025.1-py2.py3-none-any.whl.metadata (22 kB)\n",
      "Collecting tzdata>=2022.7 (from pandas)\n",
      "  Downloading tzdata-2025.1-py2.py3-none-any.whl.metadata (1.4 kB)\n",
      "Requirement already satisfied: six>=1.5 in c:\\users\\k.nisarga\\appdata\\local\\programs\\python\\python313\\lib\\site-packages (from python-dateutil>=2.8.2->pandas) (1.17.0)\n",
      "Downloading pandas-2.2.3-cp313-cp313-win_amd64.whl (11.5 MB)\n",
      "   ---------------------------------------- 0.0/11.5 MB ? eta -:--:--\n",
      "   --------- ------------------------------ 2.6/11.5 MB 15.9 MB/s eta 0:00:01\n",
      "   ----------------------- ---------------- 6.8/11.5 MB 18.2 MB/s eta 0:00:01\n",
      "   ------------------------------------- -- 10.7/11.5 MB 19.0 MB/s eta 0:00:01\n",
      "   ---------------------------------------- 11.5/11.5 MB 17.5 MB/s eta 0:00:00\n",
      "Downloading numpy-2.2.3-cp313-cp313-win_amd64.whl (12.6 MB)\n",
      "   ---------------------------------------- 0.0/12.6 MB ? eta -:--:--\n",
      "   ---- ----------------------------------- 1.6/12.6 MB 6.8 MB/s eta 0:00:02\n",
      "   --------------- ------------------------ 5.0/12.6 MB 11.7 MB/s eta 0:00:01\n",
      "   -------------------------- ------------- 8.4/12.6 MB 13.6 MB/s eta 0:00:01\n",
      "   ---------------------------------------  12.6/12.6 MB 15.2 MB/s eta 0:00:01\n",
      "   ---------------------------------------- 12.6/12.6 MB 14.7 MB/s eta 0:00:00\n",
      "Downloading pytz-2025.1-py2.py3-none-any.whl (507 kB)\n",
      "Downloading tzdata-2025.1-py2.py3-none-any.whl (346 kB)\n",
      "Installing collected packages: pytz, tzdata, numpy, pandas\n",
      "Successfully installed numpy-2.2.3 pandas-2.2.3 pytz-2025.1 tzdata-2025.1\n",
      "Note: you may need to restart the kernel to use updated packages.\n"
     ]
    },
    {
     "name": "stderr",
     "output_type": "stream",
     "text": [
      "\n",
      "[notice] A new release of pip is available: 24.3.1 -> 25.0.1\n",
      "[notice] To update, run: python.exe -m pip install --upgrade pip\n"
     ]
    }
   ],
   "source": [
    "pip install pandas"
   ]
  },
  {
   "cell_type": "code",
   "execution_count": null,
   "id": "a215cf3f-a15e-4446-92bc-7609b50a3a34",
   "metadata": {},
   "outputs": [],
   "source": []
  }
 ],
 "metadata": {
  "kernelspec": {
   "display_name": "Python 3 (ipykernel)",
   "language": "python",
   "name": "python3"
  },
  "language_info": {
   "codemirror_mode": {
    "name": "ipython",
    "version": 3
   },
   "file_extension": ".py",
   "mimetype": "text/x-python",
   "name": "python",
   "nbconvert_exporter": "python",
   "pygments_lexer": "ipython3",
   "version": "3.13.2"
  }
 },
 "nbformat": 4,
 "nbformat_minor": 5
}
